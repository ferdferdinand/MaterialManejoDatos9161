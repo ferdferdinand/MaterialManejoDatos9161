{
 "cells": [
  {
   "cell_type": "markdown",
   "metadata": {},
   "source": [
    "# <span style=\"color: #084B8A;\">Python</span>\n",
    "***Facultad de Ciencias, UNAM***  \n",
    "*Semestre 2024-1*  \n",
    "#### Estructuras de control \n",
    "- if\n",
    "- for\n",
    "- while\n",
    "\n",
    "#### Funciones\n",
    "- Funciones\n",
    "- Funciones anónimas\n",
    "- Funciones con valor por defecto\n",
    "- Recursividad de funciones\n"
   ]
  },
  {
   "cell_type": "markdown",
   "metadata": {},
   "source": [
    "## Estructuras de control\n",
    "\n",
    "Se han definido tres estructuras o constructores para un programa o algoritmo estructurado. La idea es que un programa debe estar hecho de una combinación de solo estas tres estructuras: **secuencia**, **decisión** y **repetición**.\n",
    "\n",
    "* *Secuencia*. Un algoritmo, y eventualmente un programa, es una secuencia de instrucciones, que puede ser una instrucción simple o cualquiera de las otras dos estructuras.\n",
    "* *Decisión*. Algunos problemas no se pueden resolver con solo una secuencia de instrucciones simples. Algunas veces se necesita probar una condición. Si el resultado de la prueba es verdadero, se sigue una secuencia de instrucciones: si es falso, se sigue una secuencia diferente de instrucciones.\n",
    "* *Repetición*. En algunos problemas, se debe repetir la misma secuencia de instrucciones. Manejamos esto con la repetición o ciclo (bucle).\n",
    "\n",
    "\n",
    "### Estructuras de decisión (condicionales) [```if```, ```else```, ```elif```]\n",
    "\n",
    "Al igual que en otros lenguajes de programación, en *Python* se pueden utilizar las estructuras de control que nos permiten escribir un programa que no sea sólo una secuencia de instrucciones. Como se menciono antes, las estructuras de decisión o condicionales permiten ejecutar una secuencia específica de instrucciones cuando se cumplen ciertas condiciones. En particular, las palabras reservadas para las estructuras de decisión en *Python* son: ```if```, ```else``` y ```elif```.\n",
    "\n",
    "La estructura más básica consiste en usar sólo ```if```, y esto se da cuando sólo se quiere evaluar una condición. La sintaxis es la siguiente.\n",
    "\n",
    "``` python\n",
    "if condicion:\n",
    "    # Secuencia de instrucciones\n",
    "```\n",
    "\n",
    "En el siguiente ejemplo se muestra el uso de ```if```, al desplegar el mensaje ```\"La contraseña es correcta\"``` sólo cuando las cadenas son iguales."
   ]
  },
  {
   "cell_type": "code",
   "execution_count": 2,
   "metadata": {},
   "outputs": [
    {
     "name": "stdout",
     "output_type": "stream",
     "text": [
      "Dame la constraseña: gf\n"
     ]
    }
   ],
   "source": [
    "password = \"pass\"\n",
    "intento = input(\"Dame la constraseña: \")\n",
    "if password == intento: #Uso de comparador que regresa un valor bool\n",
    "    print(\"La contraseña es correcta\")"
   ]
  },
  {
   "cell_type": "markdown",
   "metadata": {},
   "source": [
    "La segunda forma es usar ```if``` junto con ```else```,  mediante la siguiente sintaxis,\n",
    "\n",
    "``` python\n",
    "if condicion:\n",
    "    # Secuencia de instrucciones\n",
    "else:\n",
    "    # Secuencia de instrucciones\n",
    "```\n",
    "donde la secuencia de instrucciones después de ```else``` se ejecutara automáticamente cuando la condición evaluada en ```if``` no se cumpla. Continuando con el ejemplo de la contraseña, se puede mandar un mensaje al usuario para que sepa cuando se ha equivocado"
   ]
  },
  {
   "cell_type": "code",
   "execution_count": 2,
   "metadata": {},
   "outputs": [
    {
     "name": "stdout",
     "output_type": "stream",
     "text": [
      "Dame la constraseña: pass\n",
      "La contraseña es correcta\n"
     ]
    }
   ],
   "source": [
    "password = \"pass\"\n",
    "intento = input(\"Dame la constraseña: \")\n",
    "if password == intento:\n",
    "    print(\"La contraseña es correcta\")\n",
    "else:\n",
    "    print(\"La contraseña no es correcta. Intentalo nuevamente\")"
   ]
  },
  {
   "cell_type": "markdown",
   "metadata": {},
   "source": [
    "Cuando es necesario evaluar múltiples condiciones es necesario utilizar las estructuras anteriores junto con ```elif``` mediante la sintaxis\n",
    "\n",
    "``` python\n",
    "if condicion1:\n",
    "    # Secuencia de instrucciones\n",
    "elif condicion2:\n",
    "    # Secuencia de instrucciones\n",
    "#...\n",
    "elif condicionN:\n",
    "    # Secuencia de instrucciones\n",
    "else:\n",
    "    # Secuencia de instrucciones\n",
    "```\n",
    "Por ejemplo, se quiere crear un programa que dado un número $x$ diga si este es positivo, negativo o cero. Dado que hay tres casos posibles hay que tener tres condiciones: $x<0$, $x=0$ ó $x>0$. Podemos omitir una y ponerla después de ```else``` cuando no se cumpla las otras 2. En este caso se omitirá la condición $x=0$."
   ]
  },
  {
   "cell_type": "code",
   "execution_count": 3,
   "metadata": {},
   "outputs": [
    {
     "name": "stdout",
     "output_type": "stream",
     "text": [
      "Dame un número: 0\n",
      "Es cero\n"
     ]
    }
   ],
   "source": [
    "x = float(input(\"Dame un número: \"))\n",
    "if x > 0:\n",
    "    print(f\"{x} es positivo\")\n",
    "elif x < 0:\n",
    "    print(f\"{x} es negativo\")\n",
    "else:\n",
    "    print(\"Es cero\")"
   ]
  },
  {
   "cell_type": "markdown",
   "metadata": {},
   "source": [
    "\n",
    "***Notas***: \n",
    "1. **Es muy importante la indentación para indicar donde está actuando la estructura de control, ya que en *Python* no se usa ningún carácter o delimitador para este fin**.\n",
    "2. Las condiciones deben ser un valor booleano (tipo ```bool```), el cual se puede obtener mediante operaciones booleanas y relacionales o mediante alguna función o método que regrese valores booleanos.\n",
    "3. Es posible anidar las estructuras de control u omitir la parte de ```else```. Esto dependerá del problema a resolver y el algoritmo implementado.\n",
    "\n",
    "### Ejemplos\n",
    "\n",
    "#### Ejemplo 5 (calculo de raíces de una ecuación cuadrática mediante fórmula general)\n",
    "\n",
    "Considérese la ecuación de segundo grado $$ax^2 + bx + c = 0$$ para la cual se quieren calcular sus raíces reales mediante el uso de la formula general $$x = \\frac{-b\\pm\\sqrt{b^2-4ac}}{2a}.$$\n",
    "\n",
    "Por lo tanto se debe clasificar las raíces a partir del discriminante $D = b^2-4ac$ en los siguientes casos:\n",
    "\n",
    "* $D > 0$, se tienen dos raíces reales distintas.\n",
    "* $D = 0$, se tienen una raíz real (de multiplicidad 2).\n",
    "* $D < 0$, no hay raíces reales\n",
    "\n",
    "Para ello se construirá un programa que permita calcular las raíces, considerando el caso adicional cuando $a = 0$, es decir, cuando se tenga una ecuación lineal.\n",
    "\n",
    "##### Programa para clasificar las raíces\n",
    "\n",
    "Se crea un programa que pide valores de los coeficientes de la ecuación cuadrática $a$, $b$ y $c$, se calcula el discriminante y a partir de este se hace la clasificación para mostrar el resultado al usuario"
   ]
  },
  {
   "cell_type": "code",
   "execution_count": 4,
   "metadata": {},
   "outputs": [
    {
     "name": "stdout",
     "output_type": "stream",
     "text": [
      "Dame el valor del coeficiente del termino cuadratico 2\n",
      "Dame el valor del coeficiente del termino lineal 3\n",
      "Dame el valor del coeficiente del termino constante 4\n",
      "No hay raices reales\n"
     ]
    }
   ],
   "source": [
    "# import math #Es necesario este modulo para cargar las funciones. Descomentar si no se ha cargado previamente. \n",
    "# Se piden los coeficientes\n",
    "a = float(input('Dame el valor del coeficiente del termino cuadratico '))\n",
    "b = float(input('Dame el valor del coeficiente del termino lineal '))\n",
    "c = float(input('Dame el valor del coeficiente del termino constante '))\n",
    "\n",
    "# << Procedimiento >>\n",
    "# Se calculan, clasifican y muestran las raices en cada caso.\n",
    "if a == 0:\n",
    "    x1 = -c/b\n",
    "    print(f'La ecuacion es lineal y tiene la raiz {x1}')\n",
    "else:\n",
    "    D = b**2 - 4*a*c \n",
    "    if D > 0:\n",
    "        x1,x2 = (-b + math.sqrt(D))/(2*a),(-b - math.sqrt(D))/(2*a)\n",
    "        print(f'La ecuación tiene dos raíces reales x_1 ={x1} y x_2 ={x2}')\n",
    "    elif D == 0:\n",
    "        x1 = -b/(2*a)\n",
    "        print(f'La ecuacion tiene las raices repetidas {x1}')\n",
    "    else:\n",
    "        print('No hay raices reales')"
   ]
  },
  {
   "cell_type": "markdown",
   "metadata": {},
   "source": [
    "###### Ejemplos \n",
    "\n",
    "* **Caso lineal**. Consideramos el ejemplo $$6x - 12 = 0$$ cuya raíz es x = 2.  \n",
    "* **Raíces reales diferentes**. Consideremos el ejemplo $$x^2 - 4x-21=0$$ cuyas raíces son x = 7 y x = -3.  \n",
    "* **Raíces reales repetidas** Consideremos el ejemplo $$4x^2-12x+9=0$$ cuya raíz es x = 1.5.  \n",
    "* **Raíces complejas** Consideremos el ejemplo $$3x^2 + 1=0$$ que no tiene raíces reales."
   ]
  },
  {
   "cell_type": "markdown",
   "metadata": {},
   "source": [
    "### Estructuras de repetición (ciclos o bucles) [```for```,```while```]\n",
    "\n",
    "Un ciclo o bucle, en programación, es una estructura de control que ejecuta repetidas veces una secuencia de instrucciones, hasta que la condición asignada a dicho ciclo deje de cumplirse.\n",
    "\n",
    "\n",
    "#### Ciclo ```for```\n",
    "El ciclo ```for``` sirve para ejecutar un **número predeterminado** de veces una instrucción o un conjunto de instrucciones, es decir, ya se sabe el número exacto de veces que se tiene que repetir esa secuencia. La sintaxis para el ciclo ```for``` en *Python* es:\n",
    "\n",
    "```python\n",
    "for variable in objeto_iterable:\n",
    "    #Codigo\n",
    "```\n",
    "\n",
    "donde ```objeto_iterable``` puede ser una lista o una tupla o cualquier objeto que sea *iterable*. Es común usar la función predefinida ```range()``` en conjunto con los ciclos ```for``` para generar el objeto sobre el cual se *itera*.\n",
    "\n",
    "* ```range(inicio,fin,incremento)```\n",
    "* ```range(inicio,fin)``` La variable *incremento* toma el valor de 1.\n",
    "* ```range(fin)``` La variable *inicio* toma el valor de 0 e *incremento* 1.\n",
    "\n",
    "Los valores de los argumento de entrada deben ser todos enteros. En todos los casos genera un objeto de tipo ```range``` que se puede interpretar como una lista con los valores comenzando en ```inicio``` y terminando antes de ```fin``` ya que el valor ```fin``` no se considera. Por ejemplo, los siguientes programas muestran los valores generados por ```range``` en sus distintas formas."
   ]
  },
  {
   "cell_type": "code",
   "execution_count": 5,
   "metadata": {},
   "outputs": [
    {
     "name": "stdout",
     "output_type": "stream",
     "text": [
      "0\n",
      "1\n",
      "2\n"
     ]
    }
   ],
   "source": [
    "for i in range(3):\n",
    "    print(i)"
   ]
  },
  {
   "cell_type": "code",
   "execution_count": 6,
   "metadata": {},
   "outputs": [
    {
     "name": "stdout",
     "output_type": "stream",
     "text": [
      "1\n",
      "2\n"
     ]
    }
   ],
   "source": [
    "for i in range(1,3):\n",
    "    print(i)"
   ]
  },
  {
   "cell_type": "code",
   "execution_count": 7,
   "metadata": {},
   "outputs": [
    {
     "name": "stdout",
     "output_type": "stream",
     "text": [
      "7\n",
      "5\n",
      "3\n"
     ]
    }
   ],
   "source": [
    "for i in range(7,1,-2):\n",
    "    print(i)"
   ]
  },
  {
   "cell_type": "markdown",
   "metadata": {},
   "source": [
    "Como se dijo antes, también es posible recorrer los elementos en una lista no importando el tipo de dato contenido en esta, ya que la variable de iteración tomará cada uno de los valores en la lista."
   ]
  },
  {
   "cell_type": "code",
   "execution_count": 8,
   "metadata": {},
   "outputs": [
    {
     "name": "stdout",
     "output_type": "stream",
     "text": [
      "1\n",
      "Persona1\n",
      "True\n",
      "2\n",
      "Persona2\n",
      "True\n",
      "3\n",
      "Persona3\n",
      "False\n"
     ]
    }
   ],
   "source": [
    "LL = [1,\"Persona1\",True,2,\"Persona2\",True,3,\"Persona3\",False]\n",
    "for i in LL:\n",
    "    print(i)"
   ]
  },
  {
   "cell_type": "markdown",
   "metadata": {},
   "source": [
    "#### Ejemplos\n",
    "\n",
    "##### Ejemplo 6 (suma de todos los elementos en un arreglo)\n",
    "\n",
    "El ejemplo consiste en sumar todos los elementos en un arreglo. Considérese el arreglo ```x``` de tamaño ```n``` con componentes ```x[k]``` (```k``` desde ```0``` hasta ```n-1```), y se quiere calcular la suma de todos sus elementos, esto es, \n",
    "```python\n",
    "\ts = x[0] + x[1] + ... + x[n-1]\n",
    "```\n",
    "\n",
    "Dado que la suma es una operación binaria, se necesita ir sumando de dos en dos y acumular los resultados parciales en ```s``` para calcular la suma de todos los elementos, esto es\n",
    "```python\n",
    "    s = x[0] + x[1]\n",
    "\ts = s + x[2]\n",
    "\ts = s + x[3]\n",
    "\t...\n",
    "    s = s + x[n-1]\n",
    "```\n",
    "Si se considera al inicio ```s = 0```, se puede cambiar la instrucción ```s = x[0] + x[1]``` por\n",
    "```python\n",
    "    s = 0\n",
    "    s = s + x[0]\n",
    "    s = s + x[1]\n",
    "```\n",
    "que de forma general, sin contar la instrucción ```s = 0``` se pueden reescribir de la siguiente manera\n",
    "```python\n",
    "    s = s + x[k]\n",
    "```\n",
    "para ```k``` desde ```0``` hasta ```n-1```. Es por esto que un ciclo ```for``` es una buena opción para abordar este problema, ya que se conoce exactamente cuantos elementos sumar y que operación debemos repetir."
   ]
  },
  {
   "cell_type": "code",
   "execution_count": 10,
   "metadata": {},
   "outputs": [
    {
     "name": "stdout",
     "output_type": "stream",
     "text": [
      "Dame una lista de elementos: 1,2,3,4,5,5,7,8\n",
      "La suma de los elementos de la lista es: 35\n"
     ]
    }
   ],
   "source": [
    "# La lista debe ser ingresada con la sintaxis de Python. por ejemplo, [1,2,3,4,5]\n",
    "x = eval(input(\"Dame una lista de elementos: \"))\n",
    "s = 0\n",
    "for k in range(len(x)):\n",
    "    s = s + x[k]\n",
    "print(f\"La suma de los elementos de la lista es: {s}\")"
   ]
  },
  {
   "cell_type": "markdown",
   "metadata": {},
   "source": [
    "La forma análoga usando el recorrido de cada uno de los elementos en el arreglo y sin el uso de índices."
   ]
  },
  {
   "cell_type": "code",
   "execution_count": 122,
   "metadata": {},
   "outputs": [
    {
     "name": "stdout",
     "output_type": "stream",
     "text": [
      "Dame una lista de elementos: [1,2,3,4,5]\n",
      "La suma de los elementos de la lista es: 15\n"
     ]
    }
   ],
   "source": [
    "# La lista debe ser ingresada con la sintaxis de Python. por ejemplo, [1,2,3,4,5]\n",
    "x = eval(input(\"Dame una lista de elementos: \"))\n",
    "s = 0\n",
    "for elem in x:\n",
    "    s = s + elem\n",
    "print(f\"La suma de los elementos de la lista es: {s}\")"
   ]
  },
  {
   "cell_type": "markdown",
   "metadata": {},
   "source": [
    "**Nota**: Como ya se vio anteriormente, esto está implementado en el método ```.sum()``` para los arreglos de tipo ```ndarray``` de ```numpy```. Pero también está implementado para listas y tuplas mediante la función ```sum```. Por ejemplo,"
   ]
  },
  {
   "cell_type": "code",
   "execution_count": 123,
   "metadata": {},
   "outputs": [
    {
     "name": "stdout",
     "output_type": "stream",
     "text": [
      "15\n",
      "34\n"
     ]
    }
   ],
   "source": [
    "print(sum([1,2,3,4,5]))\n",
    "print(sum((7,8,9,10)))"
   ]
  },
  {
   "cell_type": "markdown",
   "metadata": {},
   "source": [
    "Es posible usar operadores aritméticos mezclados con el operador de asignación para cuando se hacen actualizaciones del valor de una variable mediante operaciones aritméticas. Esto sirve para acortar las expresiones. Un ejemplo de su uso es cuando en los ciclos ```while``` se quiere incrementar el valor de la variable de iteración, por lo general se usa, ```var_iter = var_iter + incremento```, esto se puede representar de manera corta como  ```var_iter += incremento```. A continuación se da una lista de estos operadores y su significado\n",
    "\n",
    "| Operador \t|  Uso  \t| Expresión análoga \t|\n",
    "|:--------:\t|:-----:\t|:-----------------:\t|\n",
    "|    +=    \t|  a+=b \t|     a = a + b     \t|\n",
    "|    -=    \t|  a-=b \t|     a = a - b     \t|\n",
    "|    *=    \t|  a*=b \t|     a = a * b     \t|\n",
    "|    /=    \t|  a/=b \t|     a = a / b     \t|\n",
    "|    %=    \t|  a%=b \t|     a = a % b     \t|\n",
    "|    //=   \t| a//=b \t|     a = a // b    \t|\n",
    "|    **=   \t| a**=b \t|     a = a ** b    \t|"
   ]
  },
  {
   "cell_type": "markdown",
   "metadata": {},
   "source": [
    "#### Ciclo ```while```\n",
    "Contrario al ciclo ```for```, el ciclo ```while``` se usa en situaciones en las cuales no se sabe con precisión el número de veces que una instrucción o una secuencia de instrucciones debe ser ejecutado. Por lo tanto, es necesario establecer una condición que permita repetir una secuencia de instrucciones hasta que la condición se deje de cumplir. La sintaxis para el ciclo ```while``` en *Python*\n",
    "\n",
    "```python\n",
    "while condicion:\n",
    "    #Codigo\n",
    "```\n",
    "\n",
    "El siguiente ejemplo muestra el uso del ciclo ```while```, en el cual se usa la variable ```i``` como parte de la condición. El programa sólo imprime los valores que toma la variable ```i``` a lo largo de la ejecución del ciclo. Observe que esta variable se inicializa con el valor ```0``` para que la condición ```i<10``` se cumpla y entre al ciclo. Posteriormente dentro del ciclo se modifica el valor de ```i``` para que cuando esta variable tome el valor de ```10``` la condición se deje de cumplir y salga del ciclo. "
   ]
  },
  {
   "cell_type": "code",
   "execution_count": 11,
   "metadata": {},
   "outputs": [
    {
     "name": "stdout",
     "output_type": "stream",
     "text": [
      "0\n",
      "1\n",
      "2\n",
      "3\n",
      "4\n",
      "5\n",
      "6\n",
      "7\n",
      "8\n",
      "9\n"
     ]
    }
   ],
   "source": [
    "i = 0\n",
    "while i < 10:\n",
    "    print(i)\n",
    "    i += 1"
   ]
  },
  {
   "cell_type": "markdown",
   "metadata": {},
   "source": [
    "El ciclo ```while``` es la estructura de repetición más general, por lo que es posible escribir un programa en donde se usa el ciclo ```for``` con ```while```, pero no en todas los casos se puede hacer al revés. Tomando el ejemplo de la suma de los elementos del arreglo, este se puede reescribir como:"
   ]
  },
  {
   "cell_type": "code",
   "execution_count": null,
   "metadata": {},
   "outputs": [],
   "source": [
    "# La lista debe ser ingresada con la sintaxis de Python. por ejemplo, [1,2,3,4,5]\n",
    "x = eval(input(\"Dame una lista de elementos: \"))\n",
    "s = k = 0\n",
    "while k < len(x):\n",
    "    s += x[k]\n",
    "    k += 1\n",
    "print(f\"La suma de los elementos de la lista es: {s}\")"
   ]
  },
  {
   "cell_type": "markdown",
   "metadata": {},
   "source": [
    "**Nota**: Cuando se usa un ciclo ```while``` es importante cuidar que la condición se deje de cumplir en algún momento, ya que si no pasa esto, el programa entrará en un ciclo infinito. En algunos casos se puede usar la combinación de teclas ```ctrl+c``` y en el caso de los notebooks la opción del menú ```Kernel```$\\to$```Interrupt```, para interrumpir el proceso."
   ]
  },
  {
   "cell_type": "markdown",
   "metadata": {},
   "source": [
    "#### Ejemplo 7 (búsqueda lineal)\n",
    "\n",
    "El problema de búsqueda consiste en que dado un arreglo ```L``` se determine si un elemento ```x``` se encuentra o no dentro del arreglo. El algoritmo más simple para implementar la búsqueda consiste en comparar cada elemento en ```L``` con ```x``` hasta encontrarlo o recorrer toda la lista en caso contrario. Es por ello que se utiliza un ciclo ```while``` para implementar la búsqueda lineal. \n",
    "\n",
    "Dado que se va a comparar con cada elemento en el arreglo, se usa un índice ```i``` que debe tomar los valores de ```0``` hasta ```n-1```, con ```n = len(L)``` el tamaño del arreglo. Para cada ```i``` se debe hacer la comparación ```L[i] == x``` **mientras** ```i < n``` (ya que son los valores válidos para los índices) y en dado caso que se cumpla parar, ya que significaría que ```x``` está en ```L```. Esto se puede implementar de la siguiente manera:"
   ]
  },
  {
   "cell_type": "code",
   "execution_count": 126,
   "metadata": {},
   "outputs": [
    {
     "name": "stdout",
     "output_type": "stream",
     "text": [
      "Dame una lista de elementos: [1,2,3,4,5]\n",
      "Dame el elemento que quieres buscar dentro de la lista: 3\n",
      "El elemento 3 se encuentra en el indice 2\n"
     ]
    }
   ],
   "source": [
    "# La lista debe ser ingresada con la sintaxis de python. por ejemplo, [1,2,3,4,5]\n",
    "L = eval(input(\"Dame una lista de elementos: \"))\n",
    "x = eval(input(\"Dame el elemento que quieres buscar dentro de la lista: \"))\n",
    "i,n = 0,len(L)\n",
    "while i < n:\n",
    "    if L[i] == x:\n",
    "        print(f\"El elemento {x} se encuentra en el indice {i}\")\n",
    "        break\n",
    "    i += 1\n",
    "if i == n:\n",
    "    print(f\"El elemento {x} no se encuentra en el arreglo\")"
   ]
  },
  {
   "cell_type": "markdown",
   "metadata": {},
   "source": [
    "donde ```break``` es una palabra reservada que permite romper (detener) un ciclo. \n",
    "\n",
    "Sin embargo, es posible incorporar la condición del ```if``` dentro de la condición del ciclo ```while```. Si no se cumple la condición ```L[i] == x``` se procede a incrementar el índice ```i``` en ```1```, lo que es equivalente a incrementar el índice ```i``` en ```1``` **mientras** ```i<n``` **y** ```L[i]!=x```. Esto también implica que si ```L[i] == x``` la condición\n",
    "```python\n",
    "i < n and L[i] != x:\n",
    "```\n",
    "se deje de cumplir, por tanto es la condición que sirve para romper el ciclo tanto para el caso en que se encuentra el elemento ```x``` en ```L```, con ```i``` tomando un valor menor que ```n```, como en el caso contrario, donde ```i``` tomará el valor de ```n```."
   ]
  },
  {
   "cell_type": "code",
   "execution_count": 127,
   "metadata": {},
   "outputs": [
    {
     "name": "stdout",
     "output_type": "stream",
     "text": [
      "Dame una lista de elementos: [1,2,3,4,5]\n",
      "Dame el elemento que quieres buscar dentro de la lista: 8\n",
      "El elemento 8 no se encuentra en el arreglo\n"
     ]
    }
   ],
   "source": [
    "# La lista debe ser ingresada con la sintaxis de python. por ejemplo, [1,2,3,4,5]\n",
    "L = eval(input(\"Dame una lista de elementos: \"))\n",
    "x = eval(input(\"Dame el elemento que quieres buscar dentro de la lista: \"))\n",
    "i,n = 0,len(L)\n",
    "while i < n and L[i] != x:\n",
    "    i += 1\n",
    "    \n",
    "if i < n:\n",
    "    print(f\"El elemento {x} se encuentra en el indice {i}\")\n",
    "else:\n",
    "    print(f\"El elemento {x} no se encuentra en el arreglo\")"
   ]
  },
  {
   "cell_type": "markdown",
   "metadata": {},
   "source": [
    "## Scripts y funciones\n",
    "\n",
    "Podemos crear  scripts y funciones para hacer tareas especificas. Los **scripts** son simplemente una secuencia de instrucciones que se van ejecutando línea por línea para realizar una tarea específica, es decir, esto corresponde a la definición de algoritmo. Por otro lado, las **funciones** también son secuencias de instrucciones que realizan tareas específicas, pero tienen la ventaja de que se pueden reutilizar como **subprogramas** dentro de otros scripts o funciones. En ambos casos, se guardan en archivos ```.py```. Para poder utilizarlas es necesario cargar en memoria los archivos mediante el comando ```run```. En una *entorno de desarrollo integrado* (IDE) como *Spyder*, se tienen editores que permiten crear, modificar y cargar archivos ```.py``` de manera gráfica.\n",
    "\n",
    "En el caso de *Jupyter*, un script o función se pueden escribir en una celda y la evaluación de esta celda permite cargar en memoria o ejecutar un script. En particular, un notebook de jupyter funciona como un script que depende de la ejecución secuencial (o no) de las celdas.\n",
    "\n",
    "### Funciones\n",
    "\n",
    "Para definir funciones se utiliza la siguiente sintaxis,\n",
    "\n",
    "```python\n",
    "def nombre_funcion(argumentos_entrada):\n",
    "    # Cuerpo de la funcion\n",
    "    return argumentos_salida\n",
    "```\n",
    "\n",
    "**Notas**\n",
    "\n",
    "* Usamos la palabra reservada ```def``` para denotar que estamos definiendo una función en python.\n",
    "* Los argumentos de entrada van separados por ```,```.\n",
    "* Para regresar uno o varios valores tenemos que usar la palabra reservada ```return``` seguida de las variables de salida separadas por ```,```.\n",
    "* Si la función no regresa nada se omite el uso de ```return```.\n",
    "* Los nombres de las funciones siguen las mismas reglas que para el caso de los nombres de variables.\n",
    "* **Es muy importante la indentación para indicar donde finaliza la definición de la función, ya que no se usa ningún elemento para este fin**.\n",
    "\n",
    "#### Argumentos de salida de una función\n",
    "\n",
    "Como se menciono antes, algo importante sobre las funciones en *Python* es que pueden regresar más de un argumento de salida y una vez que la instrucción\n",
    "\n",
    "```python\n",
    "return arg1[,arg2[,arg3[....,argN]]]\n",
    "```\n",
    "\n",
    "sea alcanzada, la ejecución de la función terminará, regresando el valor o valores dados después de ```return```. En este caso, los argumentos de salida, pueden ser:\n",
    "\n",
    "* Un valor específico. Por ejemplo, podemos regresar directamente literales como ```3```, ```\"cadena\"``` o ```False```, sin la necesidad de guardarlo en una variable.\n",
    "* El valor que tenga una variable. Por ejemplo, si dentro de la función se define la variable ```x```, y se pone la instrucción ```return x```, la función regresará el valor que se le haya asignado a ```x```.\n",
    "* El resultado de la evaluación de una instrucción.\n",
    "\n",
    "#### Ejemplos\n",
    "\n",
    "##### Ejemplo 8  (función que calcula el cuadrado de un número)\n",
    "\n",
    "Se va a definir una función que dado un número $n$ calcule su cuadrado, es decir, la función debe regresar $n^2$. Esta función  se llamará ```cuadrado```, cuyo argumento de entrada será $n$ y como argumento de salida regresará $n^2$. La definición queda como:"
   ]
  },
  {
   "cell_type": "code",
   "execution_count": 128,
   "metadata": {},
   "outputs": [],
   "source": [
    "# Funcion cuadrado. Calcula el cuadrado de un numero.\n",
    "def cuadrado(num):\n",
    "    return num**2"
   ]
  },
  {
   "cell_type": "markdown",
   "metadata": {},
   "source": [
    "Ahora se generará un pequeño *script* (o programa) que haga el **llamado** a la función ```cuadrado``` definida arriba."
   ]
  },
  {
   "cell_type": "code",
   "execution_count": 129,
   "metadata": {},
   "outputs": [
    {
     "name": "stdout",
     "output_type": "stream",
     "text": [
      "Dame un numero para calcular su cuadrado: 5\n",
      "5.0^2 = 25.0\n"
     ]
    }
   ],
   "source": [
    "#Script para el uso de cuadrado\n",
    "n = float(input(\"Dame un numero para calcular su cuadrado: \"))\n",
    "print(f\"{n}^2 = {cuadrado(n)}\")"
   ]
  },
  {
   "cell_type": "markdown",
   "metadata": {},
   "source": [
    "##### Ejemplo 9 (función con varios argumentos de salida)\n",
    "\n",
    "Para este ejemplo se va a crear una función que dados dos números enteros positivos $m$ y $n$ regrese el cociente $c$ y el residuo $r$ que se obtienen de la división de m entre n $\\left(\\frac{m}{n}\\right)$. Luego se utilizaran las salidas de la función para determinar si $m$ es divisible entre $n$ (que significa $r=0$) o no (que $r\\neq0$)"
   ]
  },
  {
   "cell_type": "code",
   "execution_count": 130,
   "metadata": {},
   "outputs": [],
   "source": [
    "# Definicion de la funcion\n",
    "def divisible(m,n):\n",
    "    return m//n,m%n"
   ]
  },
  {
   "cell_type": "code",
   "execution_count": 131,
   "metadata": {},
   "outputs": [
    {
     "name": "stdout",
     "output_type": "stream",
     "text": [
      "Dame un numero entero: 13\n",
      "Dame otro un numero entero: 4\n",
      "\n",
      "Debido a que 13 = 3 x 4 + 1, 13 no es divisible por 4. \n"
     ]
    }
   ],
   "source": [
    "# Script\n",
    "m = int(input(\"Dame un numero entero: \"))\n",
    "n = int(input(\"Dame otro un numero entero: \"))\n",
    "c,r = divisible(m,n)\n",
    "if r == 0:\n",
    "    print(f\"\\n{m} es divisible por {n}. \" \\\n",
    "    f\"Por tanto {m} es multiplo de {n} ya que {m} = {c} x {n}\")\n",
    "else:\n",
    "    print(f\"\\nDebido a que {m} = {c} x {n} + {r}, \" \\\n",
    "    f\"{m} no es divisible por {n}. \")"
   ]
  },
  {
   "cell_type": "markdown",
   "metadata": {},
   "source": [
    "### Funciones anónimas\n",
    "\n",
    "En *Python* es posible usar **funciones anónimas**, también conocidas como **funciones lambda**. Una función anónima es una definición de función que no está vinculada a un identificador (*nombre de función*). Estas funciones se definen mediante la palabra reservada ```lambda``` mediante la siguiente sintaxis\n",
    "```python\n",
    "lambda var_entrada: expr_salida\n",
    "```\n",
    "\n",
    "**Notas**:\n",
    "* Las variables de entrada se deben separar por ```,```.\n",
    "* La expresión de salida solo es una, pero se puede usar una tupla para regresar múltiples resultados. **Usar separación por ```,``` es lo mismo que definirlo en una tupla, ya que estas se definen así**. Por ejemplo, ```1,2,3``` es equivalente a ```(1,2,3)```.\n",
    "* Se puede asignar a una variable para que esta sirva como su nombre y se utilice como en el caso de las funciones usuales.\n",
    "\n",
    "Un ejemplo análogo a la función ```cuadrado``` mediante funciones anónimas es el siguiente:"
   ]
  },
  {
   "cell_type": "code",
   "execution_count": 137,
   "metadata": {},
   "outputs": [
    {
     "name": "stdout",
     "output_type": "stream",
     "text": [
      "9\n"
     ]
    }
   ],
   "source": [
    "cuad = lambda num: num**2\n",
    "print(cuad(3))"
   ]
  },
  {
   "cell_type": "markdown",
   "metadata": {},
   "source": [
    "Un ejemplo para regresar múltiples expresiones sería:"
   ]
  },
  {
   "cell_type": "code",
   "execution_count": 138,
   "metadata": {},
   "outputs": [
    {
     "name": "stdout",
     "output_type": "stream",
     "text": [
      "(10, 4, 21, 2.3333333333333335, 1, 343, 2)\n"
     ]
    }
   ],
   "source": [
    "# Operadores en Python\n",
    "oper = lambda n1,n2:(n1+n2,n1-n2,n1*n2,n1/n2,n1%n2,n1**n2,n1//n2) #int(n1/n2) = ni//n2\n",
    "print(oper(7,3)) "
   ]
  },
  {
   "cell_type": "markdown",
   "metadata": {},
   "source": [
    "El análogo a la forma de definir la función con *def* sería:\n",
    "\n",
    "```python\n",
    "def oper(n1,n2):\n",
    "    return n1+n2,n1-n2,n1*n2,n1/n2,n1%n2,n1**n2,n1//n2\n",
    "```\n",
    "\n",
    "y los llamados validos correspondientes serían\n",
    "\n",
    "```python\n",
    "v1,v2,v3,v4,v5,v6,v7 = oper(n1,n2)\n",
    "v = oper(n1,n2)\n",
    "```\n",
    "\n",
    "donde ```vi``` (```i = 1,...,7```) se les asignaria el valor de la correspondiente operación y ```v``` sería una tupla con cada entrada la operación correspondiente.\n",
    "\n",
    "**Nota**: En general se recomienda que las expresiones que se evaluan en las funciones anónimas sean simples, por lo que cuando sean muy complejas es mejor definir la funciones a través de ```def```.\n",
    "\n"
   ]
  },
  {
   "cell_type": "markdown",
   "metadata": {},
   "source": [
    "### Funciones con valores por defecto\n",
    "\n",
    "Otro punto importante sobre las funciones es que se puede dar valores por defecto a los argumentos de entrada, de tal manera que si no se ingresa un valor a la función aún puede correr con dichos valores. Además esto permite definir valores especificos para ciertos argumentos de entrada utilizando su nombre y sin importar el orden. Esto da mayor flexibilidad en el llamado de las funciones. Además, dado que la asignación de variables es dinámica, entonces las variables pueden ser de cualquier tipo, incluso otras funciones.\n",
    "\n",
    "### Ejemplos\n",
    "\n",
    "#### Ejemplo 11 (Calculadora científica)\n",
    "\n",
    "En el siguiente ejemplo se simulará el uso de una calculadora científica sólo para el cálculo de algunas funciones trigonométricas, logaritmos y exponenciales. En este ejemplo se usará el módulo ```math``` y diccionarios. "
   ]
  },
  {
   "cell_type": "code",
   "execution_count": 1,
   "metadata": {},
   "outputs": [],
   "source": [
    "def aplicarFuncion(f = lambda x:x,x = 0):\n",
    "    \"\"\"Realiza la evaluacion de la funcion 'f' en 'x'.\"\"\"\n",
    "    return f(x)\n",
    "\n",
    "def imprimir(f = \"id\",x = 0.0,fx = 0.0,pre = 5):\n",
    "    \"\"\"Imprime la evaluacion de la funcion 'f' en 'x' ('fx') mostrando 'pre' decimales'.\"\"\"\n",
    "    print(f\"{f}({x:6.{pre}f}) = {fx:6.{pre}f}\")"
   ]
  },
  {
   "cell_type": "code",
   "execution_count": 2,
   "metadata": {},
   "outputs": [
    {
     "name": "stdout",
     "output_type": "stream",
     "text": [
      "Introduce la función a aplicar (sin, cos, tan, exp, log): sin\n",
      "Introduce el valor a evaluar en la función: 60\n",
      "id(60.00000) = 60.00000\n"
     ]
    }
   ],
   "source": [
    "import math\n",
    "Fun = {\"sen\":math.sin, \"cos\":math.cos, \"tan\":math.tan, \"exp\":math.exp, \"log\":math.log}\n",
    "f = input(\"Introduce la función a aplicar (sin, cos, tan, exp, log): \")\n",
    "x = float(input('Introduce el valor a evaluar en la función: '))\n",
    "if f.lower() in Fun:\n",
    "    imprimir(f,x,aplicarFuncion(Fun[f.lower()],x))\n",
    "else:\n",
    "    imprimir(x = x,fx = aplicarFuncion(x = x))"
   ]
  },
  {
   "cell_type": "markdown",
   "metadata": {},
   "source": [
    "### Recursividad\n",
    "\n",
    "La recursividad es un método para resolver un problema donde la solución depende de soluciones a instancias más pequeñas del mismo problema. Tales problemas generalmente se pueden resolver de forma iterativa, pero esto necesita identificar e indexar las instancias más pequeñas en el momento de la programación. Por el contrario, la recursividad resuelve tales problemas recursivos mediante el uso de funciones que se llaman a sí mismas desde su propio código. El enfoque puede aplicarse a muchos tipos de problemas. \n",
    "\t\n",
    "La definición de una función recursiva tiene uno o más casos base, es decir, instancias para las cuales la función produce un resultado trivial (sin recursividad), y uno o más casos recursivos, es decir, entradas para las cuales el programa se llama a sí mismo. Se mostrará esto a través de algunos ejemplos.\n",
    "\n",
    "#### Ejemplos\n",
    "\n",
    "##### Ejemplo 13 (Cálculo del factorial)\n",
    "Considérese el cálculo del factorial de un entero positivo $n$, denotado por $n!$. El factorial se define como el producto de todos los enteros menores o iguales que $n$, es decir,\n",
    "$$\n",
    "    n! = 1\\cdot2\\cdot3\\cdot(n-1)\\cdot n = \\prod_{k=1}^{n}k,\\tag{13.1}\n",
    "$$\n",
    "tomando adicionalmente que $0! = 1$. De esta manera, el cálculo del factorial se pueden reescribir de manera recursiva de la siguiente manera\n",
    "$$\n",
    "\tn! = \\left\\{\\begin{array}{cl}\n",
    "\t\t      1 & \\text{si } n = 0\\\\\n",
    "\t\tn(n-1)! & \\text{si } n > 0.\n",
    "\t\\end{array}\\right.\\tag{13.2}\n",
    "$$\n",
    "donde, para $n=0$ se tiene el caso base y para $n>0$ se hace el llamado así mismo pero para un problema más pequeño, en este caso el cálculo de $(n-1)!$. *Python* soporta la recursividad, es decir el llamado de una función a si misma. Usando la forma recursiva dada en (13.2) se tiene"
   ]
  },
  {
   "cell_type": "code",
   "execution_count": 146,
   "metadata": {},
   "outputs": [],
   "source": [
    "def factorialRec(n):\n",
    "    if n <= 0:\n",
    "        return 1\n",
    "    else:\n",
    "        return n*factorialRec(n-1)"
   ]
  },
  {
   "cell_type": "markdown",
   "metadata": {},
   "source": [
    "Usando las ideas del ejemplo de la suma de todas las entradas de un arreglo (ejemplo 6) y la definición dada en la ecuación (13.1), la versión iterativa del problema queda como:"
   ]
  },
  {
   "cell_type": "code",
   "execution_count": 147,
   "metadata": {},
   "outputs": [],
   "source": [
    "def factorialIt(n):\n",
    "    nfact = 1\n",
    "    for i in range(1,n+1):\n",
    "        nfact *= i\n",
    "    return nfact"
   ]
  },
  {
   "cell_type": "markdown",
   "metadata": {},
   "source": [
    "Finalmente se muestra el uso de las funciones antes definidas"
   ]
  },
  {
   "cell_type": "code",
   "execution_count": 148,
   "metadata": {},
   "outputs": [
    {
     "name": "stdout",
     "output_type": "stream",
     "text": [
      "Dame el numero entero para calcular su factorial: 10\n",
      "10! = 3628800 (forma recursiva)\n",
      "10! = 3628800 (forma iterativa)\n"
     ]
    }
   ],
   "source": [
    "n = int(input(\"Dame el numero entero para calcular su factorial: \"))\n",
    "print(f\"{n}! = {factorialRec(n)} (forma recursiva)\")\n",
    "print(f\"{n}! = {factorialIt(n)} (forma iterativa)\")"
   ]
  }
 ],
 "metadata": {
  "kernelspec": {
   "display_name": "Python 3 (ipykernel)",
   "language": "python",
   "name": "python3"
  },
  "language_info": {
   "codemirror_mode": {
    "name": "ipython",
    "version": 3
   },
   "file_extension": ".py",
   "mimetype": "text/x-python",
   "name": "python",
   "nbconvert_exporter": "python",
   "pygments_lexer": "ipython3",
   "version": "3.11.4"
  }
 },
 "nbformat": 4,
 "nbformat_minor": 4
}
