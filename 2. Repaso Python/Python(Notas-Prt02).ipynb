{
 "cells": [
  {
   "cell_type": "markdown",
   "metadata": {},
   "source": [
    "# <span style=\"color: #084B8A;\">Python</span>\n",
    "***Facultad de Ciencias, UNAM***  \n",
    "*Semestre 2024-1*  \n",
    "\n",
    "- Datos estructurados\n",
    "- Arreglos Numpy"
   ]
  },
  {
   "cell_type": "markdown",
   "metadata": {},
   "source": [
    "# Datos estructados\n",
    "\n",
    "Para empaquetar conjuntos de datos, en este caso lo podemos hacer en *Python* mediante:\n",
    "\n",
    "* **Listas** (```list```). Puede cambiar de forma dinámica su contenido mediante los métodos definidos para las listas, además de que puede contener diferentes tipos de datos.\n",
    "* **Tuplas** (```tuple```). Una tupla está formada por un número de valores separados por comas, son inmutables.\n",
    "* **Diccionarios** (```dictionary```). Los diccionarios se indexan con claves, que pueden ser cualquier tipo inmutable.\n",
    "\n",
    "**Notas**:\n",
    "\n",
    "* Tanto las listas como las tuplas son el análogo a un *arreglo*, pero con la diferencia que pueden tener diferentes tipos de datos.\n",
    "* La numeración de los indices comienza en 0 (cero).\n",
    "* El acceso a los elementos se hace a través de corchetes ```[]```.\n",
    "* Se pueden generar arreglos n-dimensionales.\n",
    "\n",
    "## Listas\n",
    "\n",
    "Se generan mediante corchetes ```[]``` y los elementos se separan mediante comas ```,```. Para generar listas n-dimensionales es necesario anidar listas, es decir, hacer listas de listas."
   ]
  },
  {
   "cell_type": "code",
   "execution_count": 28,
   "metadata": {},
   "outputs": [
    {
     "data": {
      "text/plain": [
       "list"
      ]
     },
     "execution_count": 28,
     "metadata": {},
     "output_type": "execute_result"
    }
   ],
   "source": [
    "# Listas simple con el mismo tipo de dato\n",
    "L = [1,2,3,4,5,6]\n",
    "type(L)"
   ]
  },
  {
   "cell_type": "code",
   "execution_count": 29,
   "metadata": {},
   "outputs": [
    {
     "name": "stdout",
     "output_type": "stream",
     "text": [
      "[1, 'Algo', True]\n"
     ]
    }
   ],
   "source": [
    "# Listas simple con diferentes tipos de dato\n",
    "L2 = [1,\"Algo\",True]\n",
    "print(L2)"
   ]
  },
  {
   "cell_type": "code",
   "execution_count": 30,
   "metadata": {},
   "outputs": [
    {
     "data": {
      "text/plain": [
       "'Algo'"
      ]
     },
     "execution_count": 30,
     "metadata": {},
     "output_type": "execute_result"
    }
   ],
   "source": [
    "# Acceso al segundo elemento de la lista\n",
    "L2[1]"
   ]
  },
  {
   "cell_type": "code",
   "execution_count": 31,
   "metadata": {},
   "outputs": [
    {
     "name": "stdout",
     "output_type": "stream",
     "text": [
      "<class 'list'>\n",
      "[[1, 'Algo', True], [1, 2, 3, 4, 5, 6]]\n"
     ]
    }
   ],
   "source": [
    "# Lista bidimensional, analogo a poner directamente [[1,\"Algo\",True],[1,2,3,4,5,6]]\n",
    "L3 = [L2,L]\n",
    "print(type(L3[0]))\n",
    "print(L3)"
   ]
  },
  {
   "cell_type": "code",
   "execution_count": 32,
   "metadata": {},
   "outputs": [
    {
     "data": {
      "text/plain": [
       "'A'"
      ]
     },
     "execution_count": 32,
     "metadata": {},
     "output_type": "execute_result"
    }
   ],
   "source": [
    "# Acceso al segundo elemento de la primera lista\n",
    "L3[0][1][0]"
   ]
  },
  {
   "cell_type": "code",
   "execution_count": 33,
   "metadata": {},
   "outputs": [
    {
     "name": "stdout",
     "output_type": "stream",
     "text": [
      "[[[1, 'Algo', True], [1, 2, 3, 4, 5, 6]], [[1, 'Algo', True], [1, 2, 3, 4, 5, 6]]]\n"
     ]
    }
   ],
   "source": [
    "# Lista tridimensional\n",
    "L4 = [L3,L3]\n",
    "print(L4)"
   ]
  },
  {
   "cell_type": "code",
   "execution_count": 34,
   "metadata": {},
   "outputs": [
    {
     "data": {
      "text/plain": [
       "4"
      ]
     },
     "execution_count": 34,
     "metadata": {},
     "output_type": "execute_result"
    }
   ],
   "source": [
    "# Acceso al cuarto elemento de la segunda lista de la primera lista\n",
    "L4[0][1][3]"
   ]
  },
  {
   "cell_type": "markdown",
   "metadata": {},
   "source": [
    "Se puede modificar el tamaño de la lista a través de los métodos definidos para listas.\n",
    "\n",
    "Para acceder a los métodos es necesario poner ```.``` después del objeto y escribir el nombre del método, que incluso puede tener argumentos adicionales. "
   ]
  },
  {
   "cell_type": "code",
   "execution_count": 35,
   "metadata": {},
   "outputs": [
    {
     "name": "stdout",
     "output_type": "stream",
     "text": [
      "[1, 2, 3, 4, 5, 6, 7]\n"
     ]
    }
   ],
   "source": [
    "# Agregamos el numero 7 al final de la lista L con el metodo append\n",
    "L.append(7)\n",
    "print(L)"
   ]
  },
  {
   "cell_type": "code",
   "execution_count": 36,
   "metadata": {},
   "outputs": [
    {
     "name": "stdout",
     "output_type": "stream",
     "text": [
      "[1, 2, 3, 'Hola', 4, 5, 6, 7]\n"
     ]
    }
   ],
   "source": [
    "# Agregamos la dcadena 'Hola' en la posicion 3 de la lista L con el metodo insert\n",
    "L.insert(3,'Hola')\n",
    "print(L)"
   ]
  },
  {
   "cell_type": "markdown",
   "metadata": {},
   "source": [
    "## Tuplas\n",
    "\n",
    "Se generan mediante paréntesis ```()``` y los elementos se separan mediante comas ```,```. Para generar tuplas n-dimensionales es necesario anidar tuplas, es decir, hacer tuplas de tuplas."
   ]
  },
  {
   "cell_type": "code",
   "execution_count": 37,
   "metadata": {},
   "outputs": [
    {
     "data": {
      "text/plain": [
       "tuple"
      ]
     },
     "execution_count": 37,
     "metadata": {},
     "output_type": "execute_result"
    }
   ],
   "source": [
    "# Tupla\n",
    "T = (1,2,3,4)\n",
    "type(T)\n",
    "tupla = 2,5,67\n",
    "tupla = 1,\n",
    "type(tupla)"
   ]
  },
  {
   "cell_type": "code",
   "execution_count": 38,
   "metadata": {},
   "outputs": [
    {
     "data": {
      "text/plain": [
       "2"
      ]
     },
     "execution_count": 38,
     "metadata": {},
     "output_type": "execute_result"
    }
   ],
   "source": [
    "# Acceso al segundo elemento en la tupla T\n",
    "T[1]"
   ]
  },
  {
   "cell_type": "code",
   "execution_count": 39,
   "metadata": {},
   "outputs": [
    {
     "name": "stdout",
     "output_type": "stream",
     "text": [
      "((1, 2, 3, 4), (1, 2, 3, 4))\n"
     ]
    },
    {
     "data": {
      "text/plain": [
       "1"
      ]
     },
     "execution_count": 39,
     "metadata": {},
     "output_type": "execute_result"
    }
   ],
   "source": [
    "# Tupla bidimensional y acceso mediante 2 indices\n",
    "T2 = (T,T)\n",
    "print(T2)\n",
    "T2[0][0]"
   ]
  },
  {
   "cell_type": "code",
   "execution_count": 40,
   "metadata": {},
   "outputs": [
    {
     "name": "stdout",
     "output_type": "stream",
     "text": [
      "((1, 2, 3, 4), [1, 2, 3, 'Hola', 4, 5, 6, 7])\n"
     ]
    }
   ],
   "source": [
    "# Podemos combinar tuplas con listas y viceversa\n",
    "T3 = (T,L)\n",
    "print(T3)"
   ]
  },
  {
   "cell_type": "code",
   "execution_count": 41,
   "metadata": {},
   "outputs": [
    {
     "name": "stdout",
     "output_type": "stream",
     "text": [
      "<class 'tuple'>\n",
      "<class 'tuple'>\n",
      "<class 'list'>\n"
     ]
    },
    {
     "data": {
      "text/plain": [
       "'Hola'"
      ]
     },
     "execution_count": 41,
     "metadata": {},
     "output_type": "execute_result"
    }
   ],
   "source": [
    "# Mostramos el tipo al que corresponde\n",
    "print(type(T3)) # tupla\n",
    "print(type(T3[0])) # tupla\n",
    "print(type(T3[1])) # lista\n",
    "T3[1][3] # Acceso usual mientras el objeto lo permita"
   ]
  },
  {
   "cell_type": "markdown",
   "metadata": {},
   "source": [
    "## Dicionarios\n",
    "\n",
    "Es mejor pensar en un diccionario como un conjunto de pares **clave:valor** con el requerimiento de que las\n",
    "claves sean únicas (dentro de un diccionario). Un par de llaves crean un diccionario vacío: ```{}```\n",
    "\n",
    "El acceso a los valores del diccinario se hace mediante ```[]``` donde en lugar de indicarle un índice, se le indica la clave"
   ]
  },
  {
   "cell_type": "code",
   "execution_count": 42,
   "metadata": {},
   "outputs": [
    {
     "data": {
      "text/plain": [
       "dict"
      ]
     },
     "execution_count": 42,
     "metadata": {},
     "output_type": "execute_result"
    }
   ],
   "source": [
    "D = {\"Clave 1\":1, \"Clave 2\": 2}\n",
    "type(D)"
   ]
  },
  {
   "cell_type": "code",
   "execution_count": 43,
   "metadata": {},
   "outputs": [
    {
     "name": "stdout",
     "output_type": "stream",
     "text": [
      "1\n",
      "['Clave 1', 'Clave 2']\n",
      "[1, 2]\n"
     ]
    }
   ],
   "source": [
    "print(D[\"Clave 1\"]) #Acceso a un valor\n",
    "\n",
    "\n",
    "\"\"\"\n",
    "Algunos métodos de los diccionarios\n",
    "\"\"\"\n",
    "print(list(D.keys())) #Llaves del diccionario\n",
    "print(list(D.values())) #Valores del diccionario"
   ]
  },
  {
   "cell_type": "code",
   "execution_count": 44,
   "metadata": {},
   "outputs": [
    {
     "name": "stdout",
     "output_type": "stream",
     "text": [
      "[('Clave 1', 1), ('Clave 2', 2)]\n"
     ]
    },
    {
     "data": {
      "text/plain": [
       "tuple"
      ]
     },
     "execution_count": 44,
     "metadata": {},
     "output_type": "execute_result"
    }
   ],
   "source": [
    "\n",
    "items = list(D.items()) #Lista de tuplas; clave, valor\n",
    "print(items)\n",
    "\n",
    "type(items[0])"
   ]
  },
  {
   "cell_type": "markdown",
   "metadata": {},
   "source": [
    "## Acceso a porciones de una lista (*slices*)\n",
    "\n",
    "Podemos acceder de forma dinámica a los elementos de una lista mediante ```:```.\n",
    "\n",
    "**Nota**: El acceso está dado de la siguiente manera: ```inicio : final : incremento```, que se conocen como *slices*. Una cosa importante que se debe considerar en este caso es que el valor final no se toma en cuenta, es decir, los valores son tomados menores estrictos que el valor final. Por ejemplo, si lo consideramos como un intervalo, los valores están en $[inicio,final)$."
   ]
  },
  {
   "cell_type": "code",
   "execution_count": 45,
   "metadata": {
    "scrolled": true
   },
   "outputs": [
    {
     "name": "stdout",
     "output_type": "stream",
     "text": [
      "[1, 2, 3, 'Hola', 4, 5, 6, 7]\n",
      "['Hola', 4, 5]\n"
     ]
    }
   ],
   "source": [
    "# Los valores de L del indice 3 hasta el 5 (6 menos el incremento de 1 que esta implicito)\n",
    "print(L)\n",
    "print(L[3:6])"
   ]
  },
  {
   "cell_type": "code",
   "execution_count": 46,
   "metadata": {},
   "outputs": [
    {
     "data": {
      "text/plain": [
       "[1, 2, 3, 'Hola', 4, 5, 6, 7]"
      ]
     },
     "execution_count": 46,
     "metadata": {},
     "output_type": "execute_result"
    }
   ],
   "source": [
    "# Todos los elementos de la lista\n",
    "L[:]"
   ]
  },
  {
   "cell_type": "code",
   "execution_count": 47,
   "metadata": {},
   "outputs": [
    {
     "data": {
      "text/plain": [
       "['Hola', 4, 5, 6, 7]"
      ]
     },
     "execution_count": 47,
     "metadata": {},
     "output_type": "execute_result"
    }
   ],
   "source": [
    "# Del indice 3 hasta el final de la lista\n",
    "L[3:]"
   ]
  },
  {
   "cell_type": "code",
   "execution_count": 48,
   "metadata": {},
   "outputs": [
    {
     "data": {
      "text/plain": [
       "[1, 2, 3]"
      ]
     },
     "execution_count": 48,
     "metadata": {},
     "output_type": "execute_result"
    }
   ],
   "source": [
    "# Del inicio de la lista hasta el indice 2 (3 menos el incremento de 1 que esta implicito)\n",
    "L[:3]"
   ]
  },
  {
   "cell_type": "code",
   "execution_count": 49,
   "metadata": {},
   "outputs": [
    {
     "data": {
      "text/plain": [
       "[2, 'Hola', 5]"
      ]
     },
     "execution_count": 49,
     "metadata": {},
     "output_type": "execute_result"
    }
   ],
   "source": [
    "# Del indice 2 hasta el indice 5 con incrementos de 2\n",
    "L[1:6:2]"
   ]
  },
  {
   "cell_type": "markdown",
   "metadata": {},
   "source": [
    "**Nota**: Si se usan valores negativos, la lista se recorre del final al inicio, donde el último elemento tendría el índice ```-1```."
   ]
  },
  {
   "cell_type": "code",
   "execution_count": 50,
   "metadata": {},
   "outputs": [
    {
     "data": {
      "text/plain": [
       "7"
      ]
     },
     "execution_count": 50,
     "metadata": {},
     "output_type": "execute_result"
    }
   ],
   "source": [
    "# Ultimo elemento de L\n",
    "L[-1]"
   ]
  },
  {
   "cell_type": "code",
   "execution_count": 51,
   "metadata": {},
   "outputs": [
    {
     "data": {
      "text/plain": [
       "[7, 6, 5, 4, 'Hola', 3, 2, 1]"
      ]
     },
     "execution_count": 51,
     "metadata": {},
     "output_type": "execute_result"
    }
   ],
   "source": [
    "# Recorriendo de atras hacia adelante la lista\n",
    "L[-1:-len(L)-1:-1]"
   ]
  },
  {
   "cell_type": "markdown",
   "metadata": {},
   "source": [
    "**Nota**: La función ```len``` nos permite determinar la longitud de una cadena, lista, tupla, diccionario, etc."
   ]
  },
  {
   "cell_type": "code",
   "execution_count": 52,
   "metadata": {},
   "outputs": [
    {
     "name": "stdout",
     "output_type": "stream",
     "text": [
      "La longitud de la cadena 'Cadena' es 6\n",
      "La longitud de la lista [1, 2, 3, 'Hola', 4, 5, 6, 7] es 8\n",
      "La longitud de la tupla (1, 2, 3, 4) es 4\n",
      "La longitud del diccionario {'Clave 1': 1, 'Clave 2': 2} es 2\n"
     ]
    }
   ],
   "source": [
    "print(f\"La longitud de la cadena 'Cadena' es {len('Cadena')}\")\n",
    "print(f\"La longitud de la lista {L} es {len(L)}\")\n",
    "print(f\"La longitud de la tupla {T} es {len(T)}\")\n",
    "print(f\"La longitud del diccionario {D} es {len(D)}\")"
   ]
  },
  {
   "cell_type": "markdown",
   "metadata": {},
   "source": [
    "## Módulo ```numpy```\n",
    "\n",
    "El módulo [```numpy```](https://numpy.org/) es una biblioteca para cómputo científico que nos permite hacer cálculos numéricos y tener acceso a rutinas numéricas. De esta manera, dentro de este módulo se cuenta con las funciones y constantes matemáticas que encontramos en el módulo ```math```."
   ]
  },
  {
   "cell_type": "markdown",
   "metadata": {},
   "source": [
    "**Nota**: Aquí encontramos la palabra reservada ```as``` para renombrar el módulo dentro de nuestro script"
   ]
  },
  {
   "cell_type": "code",
   "execution_count": 54,
   "metadata": {},
   "outputs": [],
   "source": [
    "# Cargamos el modulo\n",
    "import numpy as np"
   ]
  },
  {
   "cell_type": "code",
   "execution_count": 52,
   "metadata": {},
   "outputs": [
    {
     "data": {
      "text/plain": [
       "-1.0"
      ]
     },
     "execution_count": 52,
     "metadata": {},
     "output_type": "execute_result"
    }
   ],
   "source": [
    "# Funcion coseno en numpy\n",
    "np.cos(np.pi)"
   ]
  },
  {
   "cell_type": "code",
   "execution_count": 53,
   "metadata": {},
   "outputs": [
    {
     "data": {
      "text/plain": [
       "-1.0"
      ]
     },
     "execution_count": 53,
     "metadata": {},
     "output_type": "execute_result"
    }
   ],
   "source": [
    "# Funcion coseno en math\n",
    "import math\n",
    "math.cos(math.pi)"
   ]
  },
  {
   "cell_type": "markdown",
   "metadata": {},
   "source": [
    "### Arreglos en ```numpy```\n",
    "\n",
    "Además, ```numpy``` permite tener arreglos n-dimensionales (```ndarray```, vea la  [documentación](https://numpy.org/doc/stable/reference/arrays.html) para mayor información). En particular permite crear *vectores* (arreglos unidimensionales) de tamaño $n$ \n",
    "\n",
    "\n",
    "$$\n",
    "    \\pmb{x} = \\left(\\begin{array}{c} x_{1}\\\\x_{2}\\\\\\vdots\\\\x_{n}\\end{array}\\right)\n",
    "$$\n",
    "\n",
    "\n",
    "y *matrices* (arreglos bidimensionales) de tamaño $m\\times n$ ($m$ renglones y $n$ columnas)\n",
    "\n",
    "\n",
    "\n",
    "$$\n",
    "    A = \\left(\\begin{array}{cccc} \n",
    "        a_{1,1} & a_{1,2} & \\ldots & a_{1,n}\\\\\n",
    "        a_{2,1} & a_{2,2} & \\ldots & a_{2,n}\\\\\n",
    "        \\vdots  & \\vdots  & \\ddots & \\vdots\\\\\n",
    "        a_{m,1} & a_{m,2} & \\ldots & a_{m,n}\\end{array}\\right)\n",
    "$$"
   ]
  },
  {
   "cell_type": "code",
   "execution_count": 55,
   "metadata": {},
   "outputs": [
    {
     "name": "stdout",
     "output_type": "stream",
     "text": [
      "[1 2 3 4]\n"
     ]
    },
    {
     "data": {
      "text/plain": [
       "numpy.ndarray"
      ]
     },
     "execution_count": 55,
     "metadata": {},
     "output_type": "execute_result"
    }
   ],
   "source": [
    "# Generacion de un vector a través de una lista. Tambien se puede usar una tupla\n",
    "v = np.array([1,2,3,4])\n",
    "print(v)\n",
    "type(v)"
   ]
  },
  {
   "cell_type": "code",
   "execution_count": 57,
   "metadata": {},
   "outputs": [
    {
     "name": "stdout",
     "output_type": "stream",
     "text": [
      "[[1, 2, 3], [4, 5, 6]]\n",
      "\n",
      "[[1 2 3]\n",
      " [4 5 6]]\n"
     ]
    },
    {
     "data": {
      "text/plain": [
       "numpy.ndarray"
      ]
     },
     "execution_count": 57,
     "metadata": {},
     "output_type": "execute_result"
    }
   ],
   "source": [
    "# Generacion de una matriz a través de una lista bidimensional. Tambien se puede usar una tupla\n",
    "m = [[1,2,3],[4,5,6]]\n",
    "print(m, end = \"\\n\\n\")\n",
    "M = np.array([[1,2,3],[4,5,6]])\n",
    "print(M)\n",
    "\n",
    "type(M)\n",
    "\n"
   ]
  },
  {
   "cell_type": "markdown",
   "metadata": {},
   "source": [
    "**Nota**: El acceso a los elementos de los arreglos de ```numpy``` se puede hacer exactamente igual que para las listas y tuplas. Con ello se puede modificar sus valores mediante la referencia a un elemento o a un subconjunto de elementos usando el operador de asignación (=)."
   ]
  },
  {
   "cell_type": "code",
   "execution_count": 58,
   "metadata": {},
   "outputs": [
    {
     "name": "stdout",
     "output_type": "stream",
     "text": [
      "1\n",
      "[2 3]\n",
      "[1 2 3 4]\n"
     ]
    }
   ],
   "source": [
    "# Referencia a los elementos del vector\n",
    "print(v[0]) # Referencia al primer elemento\n",
    "print(v[1:3]) # Referencia a los elementos de la posición 1 a la 2\n",
    "print(v) # Referencia a todos los elementos"
   ]
  },
  {
   "cell_type": "code",
   "execution_count": 59,
   "metadata": {},
   "outputs": [
    {
     "name": "stdout",
     "output_type": "stream",
     "text": [
      "1\n",
      "[4 5 6]\n"
     ]
    }
   ],
   "source": [
    "# Referencia a los elementos de la matriz\n",
    "print(M[0][0]) # Elemento en el primer renglon y primera columna M\n",
    "print(M[1]) # Segundo renglon de M"
   ]
  },
  {
   "cell_type": "code",
   "execution_count": 60,
   "metadata": {},
   "outputs": [
    {
     "name": "stdout",
     "output_type": "stream",
     "text": [
      "<class 'numpy.int32'>\n",
      "<class 'numpy.ndarray'>\n"
     ]
    }
   ],
   "source": [
    "# Tipos de datos \n",
    "print(type(M[0][0])) \n",
    "print(type(v[0:2]))"
   ]
  },
  {
   "cell_type": "code",
   "execution_count": 59,
   "metadata": {},
   "outputs": [
    {
     "name": "stdout",
     "output_type": "stream",
     "text": [
      "[[ 1  2 -1]\n",
      " [ 4  5  6]]\n"
     ]
    }
   ],
   "source": [
    "# Modificamos el valor del primer renglon tercera columna\n",
    "M[0][2] = -1\n",
    "print(M)"
   ]
  },
  {
   "cell_type": "code",
   "execution_count": 47,
   "metadata": {},
   "outputs": [
    {
     "name": "stdout",
     "output_type": "stream",
     "text": [
      "[[-5  2 -5]\n",
      " [ 4  5  6]]\n"
     ]
    }
   ],
   "source": [
    "# Modificamos los valores de la primera fila, y de la primera y tercera columna\n",
    "M[0][:3:2] = -5\n",
    "print(M)"
   ]
  },
  {
   "cell_type": "code",
   "execution_count": 60,
   "metadata": {},
   "outputs": [
    {
     "data": {
      "text/plain": [
       "array([[ 1,  2, -1],\n",
       "       [ 4,  5,  6]])"
      ]
     },
     "execution_count": 60,
     "metadata": {},
     "output_type": "execute_result"
    }
   ],
   "source": [
    "M"
   ]
  },
  {
   "cell_type": "code",
   "execution_count": 61,
   "metadata": {
    "scrolled": true
   },
   "outputs": [
    {
     "data": {
      "text/plain": [
       "array([[4, 5, 6]])"
      ]
     },
     "execution_count": 61,
     "metadata": {},
     "output_type": "execute_result"
    }
   ],
   "source": [
    "# Intento de obtener la submatriz de todas las filas de M, y de la segunda y tercera columna de M\n",
    "M[:][1:]\n"
   ]
  },
  {
   "cell_type": "code",
   "execution_count": 62,
   "metadata": {
    "scrolled": true
   },
   "outputs": [
    {
     "name": "stdout",
     "output_type": "stream",
     "text": [
      "[[1 2 3]\n",
      " [4 5 6]]\n",
      "[[2 3]\n",
      " [5 6]]\n"
     ]
    }
   ],
   "source": [
    "print(M)\n",
    "print(M[:,1:])"
   ]
  },
  {
   "cell_type": "code",
   "execution_count": 68,
   "metadata": {
    "scrolled": true
   },
   "outputs": [
    {
     "name": "stdout",
     "output_type": "stream",
     "text": [
      "[[ 0.16  0.1  19.  ]\n",
      " [ 0.17  0.11 10.  ]\n",
      " [ 2.02  1.29 -4.  ]]\n",
      "\n",
      "[[0.17 0.11]\n",
      " [2.02 1.29]]\n"
     ]
    }
   ],
   "source": [
    "# Submatriz de M de todas las filas de M, y de la segunda y tercera columna de M\n",
    "A = np.array([[0.16,0.10,19],[0.17,0.11,10],[2.02,1.29,-4]])\n",
    "print(A, end = \"\\n\\n\")\n",
    "#A[:2,:]\n",
    "\n",
    "print(A[1:,:2])"
   ]
  },
  {
   "cell_type": "code",
   "execution_count": 69,
   "metadata": {},
   "outputs": [
    {
     "data": {
      "text/plain": [
       "array([[1, 1, 2],\n",
       "       [4, 3, 4]])"
      ]
     },
     "execution_count": 69,
     "metadata": {},
     "output_type": "execute_result"
    }
   ],
   "source": [
    "# Se modifican todos los valores en la submatriz con un arreglo del mismo tamaño\n",
    "M[:,1:3] = np.array([[1,2],[3,4]])\n",
    "M"
   ]
  },
  {
   "cell_type": "markdown",
   "metadata": {},
   "source": [
    "#### Funciones para generar arreglos y métodos sobre arreglos de ```numpy```\n",
    "\n",
    "En el caso de las funciones para generar arreglos de *numpy* contamos con una gran variedad que nos permiten crear matrices con formas particulares. También es posible acceder a métodos para hacer manipulaciones sobre los elementos del arreglo o consultar algunos de los atributos. Una lista completa de las funciones puede ser consultada en el siguiente [link](https://numpy.org/doc/stable/reference/routines.html) y los métodos disponibles se puede encontrar en el siguiente [link](https://numpy.org/doc/stable/reference/arrays.ndarray.html#array-methods)."
   ]
  },
  {
   "cell_type": "markdown",
   "metadata": {},
   "source": [
    "La función ```linspace``` dentro de ```numpy``` sirve para crear vectores con elementos espaciados de manera uniforme. La sintaxis es la siguiente\n",
    "\n",
    "```python\n",
    "v = np.linspace(xi,xf,n)\n",
    "```\n",
    "* La variable ```xi``` indica el valor del primer elemento del vector.\n",
    "* La variable ```xf``` indica el valor del último elemento del vector.\n",
    "* La variable ```n``` indica el numero de elementos. Con la sintaxis ```v = linspace(xi,xf)``` la variable ```n``` toma el valor de 50.\n",
    "\n",
    "Así, cada entrada del vector ```v``` estará dada por:\n",
    "```python\n",
    "v[k] = xi + k*h\n",
    "``` \n",
    "para ```k``` de ```0``` hasta ```n-1``` y \n",
    "```python\n",
    "h = (xf-xi)/(n-1)\n",
    "```"
   ]
  },
  {
   "cell_type": "code",
   "execution_count": 70,
   "metadata": {},
   "outputs": [
    {
     "name": "stdout",
     "output_type": "stream",
     "text": [
      "[-1.   -0.25  0.5   1.25  2.  ]\n"
     ]
    }
   ],
   "source": [
    "# Ejemplo de linspace\n",
    "x = np.linspace(-1,2,5)\n",
    "print(x)"
   ]
  },
  {
   "cell_type": "markdown",
   "metadata": {},
   "source": [
    "La función ```arange``` dentro de ```numpy``` también sirve para crear vectores con elementos espaciados de manera uniforme. La sintaxis es la siguiente\n",
    "\n",
    "```python\n",
    "v = np.arange(xi,xf,h)\n",
    "```\n",
    "* La variable ```xi``` indica el valor del primer elemento del vector.\n",
    "* La variable ```xf``` indica la cota superior valor del último elemento del vector.\n",
    "* La variable ```h``` indica el incremento. Con la sintaxis ```v = arange(xi,xf)``` la variable ```h``` toma el valor de 1.\n",
    "\n",
    "Así, cada entrada del vector ```v``` estará dada por:\n",
    "```python\n",
    "v[k] = xi + k*h\n",
    "``` \n",
    "para ```k``` $\\geq$ ```0``` de tal manera que ```xi``` $\\leq$ ```v[k]``` $<$ ```xf``` (```v[k]```$\\in [$ ```xi```,```xf``` $)$)."
   ]
  },
  {
   "cell_type": "code",
   "execution_count": 81,
   "metadata": {},
   "outputs": [
    {
     "name": "stdout",
     "output_type": "stream",
     "text": [
      "[-1.  -0.5  0.   0.5  1.   1.5  2.   2.5  3.   3.5  4.   4.5  5.   5.5\n",
      "  6.   6.5  7.   7.5  8.   8.5  9.   9.5]\n"
     ]
    }
   ],
   "source": [
    "# Para tener el analogo al operador : de Octave se usa arange de numpy\n",
    "y = np.arange(-1,10,0.5)\n",
    "print(y)"
   ]
  },
  {
   "cell_type": "markdown",
   "metadata": {},
   "source": [
    "En los siguientes ejemplos se muestran algunas funciones para crear matrices con formas particulares:\n",
    "\n",
    "* ```np.ones(shape)```. Permite crear un arreglo $n$-dimensional con todas sus entradas ```1.``` del tamaño definido por ```shape```. Para crear una matriz de tamaño $m\\times n$, el argumento ```shape``` puede ser una lista o una tupla que contenga el número de filas y columnas si tiene dos entradas ```(m,n)``` o un vector con $m$ entradas si sólo contiene una ```(m)``` o ```(m,)```.\n",
    "* ```np.zeros(shape)```. Permite crear un arreglo $n$-dimensional con todas sus entradas ```0.``` del tamaño definido por ```shape```. Para crear una matriz de tamaño $m\\times n$, el argumento ```shape``` puede ser una lista o una tupla que contenga el número de filas y columnas si tiene dos entradas ```(m,n)``` o un vector con $m$ entradas si sólo contiene una ```(m)``` o ```(m,)```.\n",
    "* ```np.eye(m[,n])```. Permite crear una matriz de tamaño $m\\times n$ donde los elementos son cero, excepto en la diagonal principal donde son 1. Si sólo se da el argumento ```m``` se obtendrá una matriz cuadrada de tamaño $m\\times m$. El segundo argumento ```n``` es opcional y si se específica se tendrá una matriz rectangular de tamaño $m\\times n$."
   ]
  },
  {
   "cell_type": "code",
   "execution_count": 97,
   "metadata": {},
   "outputs": [
    {
     "name": "stdout",
     "output_type": "stream",
     "text": [
      "[[1. 1. 1. 1. 1.]\n",
      " [1. 1. 1. 1. 1.]\n",
      " [1. 1. 1. 1. 1.]\n",
      " [1. 1. 1. 1. 1.]]\n"
     ]
    }
   ],
   "source": [
    "# Funcion ones\n",
    "O = np.ones((4,5))\n",
    "print(O)"
   ]
  },
  {
   "cell_type": "code",
   "execution_count": 72,
   "metadata": {},
   "outputs": [
    {
     "name": "stdout",
     "output_type": "stream",
     "text": [
      "[[0. 0. 0.]\n",
      " [0. 0. 0.]\n",
      " [0. 0. 0.]]\n"
     ]
    }
   ],
   "source": [
    "# Funcion zeros\n",
    "u = np.zeros((3,3))\n",
    "print(u)"
   ]
  },
  {
   "cell_type": "code",
   "execution_count": 73,
   "metadata": {},
   "outputs": [
    {
     "name": "stdout",
     "output_type": "stream",
     "text": [
      "[[1. 0. 0. 0. 0. 0. 0. 0. 0. 0.]\n",
      " [0. 1. 0. 0. 0. 0. 0. 0. 0. 0.]\n",
      " [0. 0. 1. 0. 0. 0. 0. 0. 0. 0.]\n",
      " [0. 0. 0. 1. 0. 0. 0. 0. 0. 0.]\n",
      " [0. 0. 0. 0. 1. 0. 0. 0. 0. 0.]\n",
      " [0. 0. 0. 0. 0. 1. 0. 0. 0. 0.]\n",
      " [0. 0. 0. 0. 0. 0. 1. 0. 0. 0.]\n",
      " [0. 0. 0. 0. 0. 0. 0. 1. 0. 0.]\n",
      " [0. 0. 0. 0. 0. 0. 0. 0. 1. 0.]\n",
      " [0. 0. 0. 0. 0. 0. 0. 0. 0. 1.]]\n"
     ]
    }
   ],
   "source": [
    "# Funcion eye\n",
    "Q = np.eye(10)\n",
    "print(Q)"
   ]
  },
  {
   "cell_type": "markdown",
   "metadata": {},
   "source": [
    "Hay diversos métodos definidos para ```ndarray```, estos son sólo algunos ejemplos.\n",
    "* ```.diagonal()```. Extrae la diagonal principal.\n",
    "* ```.sum()```. Permite calcular la suma de todos los elementos en el arreglo. Si es un arreglo $n$-dimensional, permite hacer la suma sobre alguna dimensión específica obteniendo un arreglo $(n-1)$-dimensional.\n",
    "* ```.prod()```. Permite calcular el producto de todos los elementos en el arreglo. Si es un arreglo $n$-dimensional, permite hacer el producto sobre alguna dimensión específica obteniendo un arreglo $(n-1)$-dimensional.\n",
    "\n",
    "También se tiene acceso a ciertos atributos que nos dan información sobre el arreglo. Por ejemplo,\n",
    "* ```.shape```. Permite saber la forma de un arreglo. Si el arreglo es una matriz arroja una tupla con el número de filas y columnas y si es un vector, regresa una tupla con el número de elementos.\n",
    "* ```.size```. Permite saber el número de elementos que hay en el arreglo."
   ]
  },
  {
   "cell_type": "code",
   "execution_count": 100,
   "metadata": {},
   "outputs": [
    {
     "data": {
      "text/plain": [
       "array([1., 1., 1., 1.])"
      ]
     },
     "execution_count": 100,
     "metadata": {},
     "output_type": "execute_result"
    }
   ],
   "source": [
    "# Metodo diagonal\n",
    "O.diagonal()"
   ]
  },
  {
   "cell_type": "code",
   "execution_count": 103,
   "metadata": {},
   "outputs": [
    {
     "data": {
      "text/plain": [
       "0.0"
      ]
     },
     "execution_count": 103,
     "metadata": {},
     "output_type": "execute_result"
    }
   ],
   "source": [
    "# Suma de los elementos de un vector\n",
    "u.sum()"
   ]
  },
  {
   "cell_type": "code",
   "execution_count": 105,
   "metadata": {},
   "outputs": [
    {
     "name": "stdout",
     "output_type": "stream",
     "text": [
      "20.0\n",
      "[4. 4. 4. 4. 4.]\n",
      "[5. 5. 5. 5.]\n"
     ]
    }
   ],
   "source": [
    "# Suma de los elementos de una matriz\n",
    "print(O.sum()) #suma de todos los elementos\n",
    "print(O.sum(0)) #suma por columnas\n",
    "print(O.sum(1)) #suma por renglones"
   ]
  },
  {
   "cell_type": "code",
   "execution_count": 108,
   "metadata": {},
   "outputs": [
    {
     "data": {
      "text/plain": [
       "24"
      ]
     },
     "execution_count": 108,
     "metadata": {},
     "output_type": "execute_result"
    }
   ],
   "source": [
    "# Producto de los elementos de un vector\n",
    "v.prod()"
   ]
  },
  {
   "cell_type": "code",
   "execution_count": 109,
   "metadata": {},
   "outputs": [
    {
     "name": "stdout",
     "output_type": "stream",
     "text": [
      "-480\n",
      "[-20   3   8]\n",
      "[-10  48]\n"
     ]
    }
   ],
   "source": [
    "# Producto de los elementos de una matriz\n",
    "print(M.prod()) #producto de todos los elementos\n",
    "print(M.prod(0)) #producto por filas\n",
    "print(M.prod(1)) #producto por columnas"
   ]
  },
  {
   "cell_type": "code",
   "execution_count": 110,
   "metadata": {},
   "outputs": [
    {
     "name": "stdout",
     "output_type": "stream",
     "text": [
      "(9,)\n",
      "(4, 5)\n"
     ]
    }
   ],
   "source": [
    "# Tamaño de un arreglo\n",
    "print(u.shape) # Vector\n",
    "print(O.shape) # Matriz"
   ]
  },
  {
   "cell_type": "code",
   "execution_count": 112,
   "metadata": {},
   "outputs": [
    {
     "name": "stdout",
     "output_type": "stream",
     "text": [
      "9\n",
      "20\n"
     ]
    }
   ],
   "source": [
    "# Longitud del arreglo\n",
    "print(u.size) # Vector\n",
    "print(O.size) # Matriz"
   ]
  },
  {
   "cell_type": "markdown",
   "metadata": {},
   "source": [
    "#### Operaciones y funciones sobre arreglos de ```numpy```\n",
    "\n",
    "En el caso de las operaciones, al aplicar cualquier operador aritmético estas se realizan componente a componente. Esto es, si se tienen dos arreglos de ```numpy``` ```A``` y ```B``` del mismo tamaño, entonces ```C``` $=$ ```A``` $\\odot$ ```B``` para $\\odot \\in\\{$ ```+```, ```-```, ```/```, ```*```, ```%```, ```//``` $\\}$ implica que \n",
    "\n",
    "```C[idx1[,idx2[,idx3[....,idxN]]]]``` $=$  ```A[idx1[,idx2[,idx3[....,idxN]]]]``` $\\odot$ ```B[idx1[,idx2[,idx3[....,idxN]]]]```\n",
    "\n",
    "En particular, para vectores esto implica que:\n",
    "\n",
    "```C[i]``` $=$  ```A[i]``` $\\odot$ ```B[i]``` para ```i``` de ```0``` hasta ```n-1```\n",
    "\n",
    "y para matrices\n",
    "\n",
    "```C[i,j]``` $=$  ```A[i,j]``` $\\odot$ ```B[i,j]``` para ```i``` de ```0``` hasta ```m-1``` y ```j``` de ```0``` hasta ```n-1```.\n",
    "\n",
    "Para el caso de las potencias, tener la instrucción ```A**p``` implica que cada entrada del arreglo ```A``` será elevado a la potencia ```p```, esto es ```A[i]**p``` para vectores y ```A[i,j]**p``` para matrices."
   ]
  },
  {
   "cell_type": "code",
   "execution_count": 113,
   "metadata": {},
   "outputs": [
    {
     "name": "stdout",
     "output_type": "stream",
     "text": [
      "[1 2 3 4]\n",
      "[ 3  6  9 12]\n"
     ]
    }
   ],
   "source": [
    "# Suma de vectores y multiplicacion por escalar\n",
    "print(v)\n",
    "print(v + 2*v)"
   ]
  },
  {
   "cell_type": "code",
   "execution_count": 114,
   "metadata": {},
   "outputs": [
    {
     "name": "stdout",
     "output_type": "stream",
     "text": [
      "[ 1  4  9 16]\n"
     ]
    }
   ],
   "source": [
    "# Multiplicacion de vectores elemento a elemento\n",
    "print(v*v)"
   ]
  },
  {
   "cell_type": "code",
   "execution_count": 115,
   "metadata": {},
   "outputs": [
    {
     "name": "stdout",
     "output_type": "stream",
     "text": [
      "[0.5 0.5 0.5 0.5]\n"
     ]
    }
   ],
   "source": [
    "# Division de vectores elemento a elemento\n",
    "print(v/(2*v))"
   ]
  },
  {
   "cell_type": "code",
   "execution_count": 116,
   "metadata": {},
   "outputs": [
    {
     "name": "stdout",
     "output_type": "stream",
     "text": [
      "[ 1  8 27 64]\n"
     ]
    }
   ],
   "source": [
    "# Elevar cada elemento a una potencia \n",
    "print(v**3)"
   ]
  },
  {
   "cell_type": "markdown",
   "metadata": {},
   "source": [
    "**Nota**: También está permitido hacer otras operaciones con escalares, lo cual tendrá el efecto de aplicar a cada entrada del arreglo esa operación con el escalar como segundo operando."
   ]
  },
  {
   "cell_type": "code",
   "execution_count": 117,
   "metadata": {},
   "outputs": [
    {
     "name": "stdout",
     "output_type": "stream",
     "text": [
      "[4 5 6 7]\n",
      "[-9 -8 -7 -6]\n",
      "[1 0 1 0]\n",
      "[0.33333333 0.66666667 1.         1.33333333]\n"
     ]
    }
   ],
   "source": [
    "# Operaciones con escalares\n",
    "print(v+3) # Suma\n",
    "print(v-10) # Restar\n",
    "print(v%2) # Módulo\n",
    "print(v/3) # División"
   ]
  },
  {
   "cell_type": "markdown",
   "metadata": {},
   "source": [
    "Dado que la suma y resta de matrices se define como una operación elemento a elemento, con las implementaciones de esos operadores en el módulo ```numpy``` se tiene cubiertas esas operaciones. Sin embargo, la multiplicación de matrices para $A$ de tamaño $m\\times n$ y $B$ de tamaño $n\\times r$ da como resultado es una matriz $C = AB$ de tamaño $m\\times r$ con entradas\n",
    "\n",
    "$$\n",
    "    C_{i,j} = \\sum_{k=1}^{n} a_{i,k}b_{k,j}\\quad i=1,\\ldots,m,\\,j=1,\\ldots,r.\n",
    "$$\n",
    "\n",
    "*Nota*: Observe que el número de columnas de $A$ debe coincidir con el número de renglones de $B$.\n",
    "\n",
    "Entonces cuando se quiere realizar la multiplicación de matrices, este debe ser realizado mediante el método *dot* o el operador *@*."
   ]
  },
  {
   "cell_type": "code",
   "execution_count": 121,
   "metadata": {},
   "outputs": [
    {
     "name": "stdout",
     "output_type": "stream",
     "text": [
      "[[1. 1. 1. 1. 1.]\n",
      " [1. 1. 1. 1. 1.]\n",
      " [1. 1. 1. 1. 1.]\n",
      " [1. 1. 1. 1. 1.]]\n",
      "[1 2 3 4]\n"
     ]
    }
   ],
   "source": [
    "print(O)\n",
    "print(v)"
   ]
  },
  {
   "cell_type": "code",
   "execution_count": 118,
   "metadata": {},
   "outputs": [
    {
     "data": {
      "text/plain": [
       "array([10., 10., 10., 10., 10.])"
      ]
     },
     "execution_count": 118,
     "metadata": {},
     "output_type": "execute_result"
    }
   ],
   "source": [
    "# Multiplicacion usual de matrices mediante dot\n",
    "v.dot(O)"
   ]
  },
  {
   "cell_type": "code",
   "execution_count": 122,
   "metadata": {},
   "outputs": [
    {
     "data": {
      "text/plain": [
       "array([10., 10., 10., 10., 10.])"
      ]
     },
     "execution_count": 122,
     "metadata": {},
     "output_type": "execute_result"
    }
   ],
   "source": [
    "# Multiplicacion usual de matrices mediante la funcion dot \n",
    "np.dot(v,O)"
   ]
  },
  {
   "cell_type": "code",
   "execution_count": 123,
   "metadata": {},
   "outputs": [
    {
     "data": {
      "text/plain": [
       "array([10., 10., 10., 10., 10.])"
      ]
     },
     "execution_count": 123,
     "metadata": {},
     "output_type": "execute_result"
    }
   ],
   "source": [
    "# Multiplicacion usual de matrices mediante @\n",
    "v @ O"
   ]
  },
  {
   "cell_type": "markdown",
   "metadata": {},
   "source": [
    "Otra característica es que las funciones matemáticas dentro de este módulo se pueden aplicar directamente a los arreglos, teniendo como resultado un arreglo del mismo tamaño a donde cada entrada se le aplica la función. Por ejemplo, dada la matriz ```A```, entonces si se le aplica la función ```np.cos()```, tendremos que si ```B = np.cos(A)```, entonces ```B``` tiene entradas ```B[i,j] = np.cos(A[i,j])```."
   ]
  },
  {
   "cell_type": "code",
   "execution_count": 124,
   "metadata": {},
   "outputs": [
    {
     "name": "stdout",
     "output_type": "stream",
     "text": [
      "Aplicamos coseno a un vector\n",
      "\n",
      "[ 0.54030231 -0.41614684 -0.9899925  -0.65364362]\n",
      "\n",
      "Aplicamos la raiz cuadrada a una matriz\n",
      "\n",
      "[[2.23606798 1.         1.41421356]\n",
      " [2.         1.73205081 2.        ]]\n"
     ]
    }
   ],
   "source": [
    "# Aplicación de funciones a vectores y matrices\n",
    "print(\"Aplicamos coseno a un vector\\n\")\n",
    "print(np.cos(v))\n",
    "print(\"\\nAplicamos la raiz cuadrada a una matriz\\n\")\n",
    "print(np.sqrt(abs(M)))"
   ]
  },
  {
   "cell_type": "markdown",
   "metadata": {},
   "source": [
    "**Nota**: La función ```abs``` sirve para calcular el valor absoluto de un número. Esta función pertenece a las funciones integradas de *Python*, por lo que se puede aplicar a los tipos de datos numéricos. Aunque también es posible usarlas con los tipos de datos del módulo ```numpy```, como se muestra en el ejemplo anterior, también se puede usar la función ```np.abs()``` dentro de este módulo."
   ]
  },
  {
   "cell_type": "markdown",
   "metadata": {},
   "source": [
    "### Ejemplo\n",
    "\n",
    "Muestre que la suma de la serie infinita\n",
    "$$\n",
    "    \\sqrt{12}\\sum_{n=0}^{\\infty}\\dfrac{(-3)^{-n}}{2n+1}\n",
    "$$\n",
    "converge a $\\pi$. Haga esto calculando las sumas:\n",
    "1. $\\sqrt{12}\\sum_{n=0}^{10}\\dfrac{(-3)^{-n}}{2n+1}$.\n",
    "2. $\\sqrt{12}\\sum_{n=0}^{20}\\dfrac{(-3)^{-n}}{2n+1}$.\n",
    "3. $\\sqrt{12}\\sum_{n=0}^{50}\\dfrac{(-3)^{-n}}{2n+1}$.\n",
    "\n",
    "Para cada parte cree un vector $n$ en el cual el primer elemento sea 0, el incremento sea 1 y el último término sea 10, 20 ó 50. Luego, use operaciones elemento a elemento para crear un vector cuyos elementos sean $\\dfrac{(-3)^{-n}}{2n+1}$. Finalmente, use el método ```.sum()``` para sumar los términos de la serie y multiplique el resultado por $\\sqrt{12}$. Compare los valores obtenidos en los incisos 1., 2. y 3. con el valor de $\\pi$ del módulo ```numpy```.\n",
    "\n",
    "\n",
    "**Solución**: Para calcular la suma es necesario calcular cada uno de los términos. Luego como $n$ toma valores enteros se usa ```np.arange(n+1)``` para generar un vector con los enteros del ```0``` hasta ```n``` que se guardan en ```t_n```. Así, para calcular el término $n$-esimo de la suma sólo es necesario calcular la expresión $\\dfrac{(-3)^{-n}}{2n+1}$ a cada entrada de ```t_n```, que se hace usando las operaciones elemento a elemento con el vector. Una vez teniendo los términos calculados sólo se hace la suma de todas las entradas con el método ```.sum()``` y se multiplica por $\\sqrt{12}$. Cambiando los valores de ```n``` por ```10```, ```20``` y ```50```, se obtienen los resultados para los incisos 1., 2. y 3., respectivamente. Conforme más términos se calculen, veremos que el error será menor."
   ]
  },
  {
   "cell_type": "code",
   "execution_count": 6,
   "metadata": {},
   "outputs": [
    {
     "name": "stdout",
     "output_type": "stream",
     "text": [
      "La aproximacion de 3.141592653589793 con 11 terminos de la suma es: 3.141593304503081\n",
      "El error absoluto es: 6.51e-07\n"
     ]
    }
   ],
   "source": [
    "n = 10\n",
    "t_n = np.arange(n+1)\n",
    "t_n = (-3.0)**(-t_n) / (2.0*t_n + 1)\n",
    "pi_approx = np.sqrt(12)*t_n.sum()\n",
    "print(f\"La aproximacion de {np.pi} con {n+1} terminos de la suma es: {pi_approx}\")\n",
    "print(f\"El error absoluto es: {np.fabs(pi_approx - np.pi):2.2e}\")"
   ]
  }
 ],
 "metadata": {
  "kernelspec": {
   "display_name": "Python 3 (ipykernel)",
   "language": "python",
   "name": "python3"
  },
  "language_info": {
   "codemirror_mode": {
    "name": "ipython",
    "version": 3
   },
   "file_extension": ".py",
   "mimetype": "text/x-python",
   "name": "python",
   "nbconvert_exporter": "python",
   "pygments_lexer": "ipython3",
   "version": "3.11.4"
  }
 },
 "nbformat": 4,
 "nbformat_minor": 4
}
