{
 "cells": [
  {
   "cell_type": "markdown",
   "metadata": {},
   "source": [
    "# <span style=\"color: #084B8A;\">Python</span>\n",
    "***Facultad de Ciencias, UNAM***  \n",
    "*Semestre 2024-1*  \n",
    "\n",
    "- Tipos de datos\n",
    "- Operadores aritméticos, comparadores y lógicos\n",
    "- Asignación de variables\n",
    "- print, input, type\n",
    "- Módulo math"
   ]
  },
  {
   "cell_type": "markdown",
   "metadata": {},
   "source": [
    "# Introducción\n",
    "\n",
    "***Python*** es un lenguaje de programación, *interpretado*, *interactivo*, *orientado a objetos* y de *alto nivel*. \n",
    "\n",
    "\n",
    "# Tipos de datos\n",
    "\n",
    "Dentro de los tipos de datos básicos que maneja *Python* se encuentran:\n",
    "\n",
    "* Enteros (```int```)\n",
    "* Flotantes o decimales (```float```)\n",
    "* Cadenas (```str```)\n",
    "* Booleanos (```bool```)\n",
    "* Complejos (```complex```)\n",
    "\n",
    "***Comentarios y funciones básicas en Python***  \n",
    "\n",
    "1. Para poner una línea como comentario es necesario utilizar el símbolo ```#``` al inicio de una línea. Sí se quiere tener un bloque de comentarios, es necesario que cada línea inicie con ```#```. Es posible también poner comentarios después de una instrucción con el mismo procedimiento.\n",
    "2. La función ```type``` sirve para mostrar el tipo de dato que estamos poniendo como argumento.\n",
    "3. La función ```print``` sirve para desplegar el valor que tenga una variable o un tipo de dato."
   ]
  },
  {
   "cell_type": "code",
   "execution_count": 1,
   "metadata": {
    "scrolled": true
   },
   "outputs": [
    {
     "name": "stdout",
     "output_type": "stream",
     "text": [
      "Hola mundo\n"
     ]
    }
   ],
   "source": [
    "# Comentario en una linea\n",
    "print(\"Hola mundo\") # Comentario despues de una instruccion"
   ]
  },
  {
   "cell_type": "markdown",
   "metadata": {},
   "source": [
    "## Ejemplos de los tipos de datos\n",
    "\n",
    "Sintaxis que se debe utilizar para definir los diferentes tipos de datos."
   ]
  },
  {
   "cell_type": "code",
   "execution_count": 2,
   "metadata": {},
   "outputs": [
    {
     "data": {
      "text/plain": [
       "int"
      ]
     },
     "execution_count": 2,
     "metadata": {},
     "output_type": "execute_result"
    }
   ],
   "source": [
    "# Enteros\n",
    "type(10)   # Notacion decimal"
   ]
  },
  {
   "cell_type": "code",
   "execution_count": 3,
   "metadata": {},
   "outputs": [
    {
     "data": {
      "text/plain": [
       "float"
      ]
     },
     "execution_count": 3,
     "metadata": {},
     "output_type": "execute_result"
    }
   ],
   "source": [
    "# Numeros de punto flotante (reales)\n",
    "type(10.0)  # Notacion con punto decimal"
   ]
  },
  {
   "cell_type": "code",
   "execution_count": 6,
   "metadata": {},
   "outputs": [
    {
     "data": {
      "text/plain": [
       "str"
      ]
     },
     "execution_count": 6,
     "metadata": {},
     "output_type": "execute_result"
    }
   ],
   "source": [
    "# Cadenas (strings)\n",
    "type('Cadena') # Con comillas simples o apostrofe\n",
    "type(\"Cadena\") # Con comillas\n",
    "type(\"\"\"Cad\n",
    "ena\"\"\") # Tres pares de comillas"
   ]
  },
  {
   "cell_type": "markdown",
   "metadata": {},
   "source": [
    "**Nota**: Los tres pares de comillas permiten generar comentarios en bloque"
   ]
  },
  {
   "cell_type": "code",
   "execution_count": 1,
   "metadata": {},
   "outputs": [
    {
     "data": {
      "text/plain": [
       "'\\nEsto me da la\\nposibilidad de escribir\\ncomentario en un bloque\\n'"
      ]
     },
     "execution_count": 1,
     "metadata": {},
     "output_type": "execute_result"
    }
   ],
   "source": [
    "\"\"\"\n",
    "Esto me da la\n",
    "posibilidad de escribir\n",
    "comentario en un bloque\n",
    "\"\"\""
   ]
  },
  {
   "cell_type": "code",
   "execution_count": 8,
   "metadata": {},
   "outputs": [
    {
     "data": {
      "text/plain": [
       "bool"
      ]
     },
     "execution_count": 8,
     "metadata": {},
     "output_type": "execute_result"
    }
   ],
   "source": [
    "# Booleanos\n",
    "type(True) # Verdadero\n",
    "type(False) # Falso"
   ]
  },
  {
   "cell_type": "code",
   "execution_count": 15,
   "metadata": {},
   "outputs": [
    {
     "data": {
      "text/plain": [
       "complex"
      ]
     },
     "execution_count": 15,
     "metadata": {},
     "output_type": "execute_result"
    }
   ],
   "source": [
    "# Numeros complejos\n",
    "type(3 + 6j) # La parte imaginaria corresponde al caracter acompañado de j"
   ]
  },
  {
   "cell_type": "markdown",
   "metadata": {},
   "source": [
    "## Operadores aritméticos\n",
    "\n",
    "Los operadores aritméticos disponibles se dan a continuación:\n",
    "\n",
    "| Operador \t|        Operación       \t|   Uso  \t|\n",
    "|:--------:\t|:----------------------:\t|:------:\t|\n",
    "|     +    \t|          Suma          \t|  a + b \t|\n",
    "|     -    \t|          Resta         \t|  a - b \t|\n",
    "|     *    \t|     Multiplicación     \t|  a * b \t|\n",
    "|     /    \t|        División        \t|  a / b \t|\n",
    "|     %    \t|    Módulo (residuo)    \t|  a % b \t|\n",
    "|    //    \t| División entera (piso) \t| a // b \t|\n",
    "|    **    \t|     Exponenciación     \t| a ** b \t|\n",
    "\n",
    "La jerarquía de las operadores, es decir, el orden en que se evalúan las operaciones es la siguiente:\n",
    "\n",
    "* ***Primero***. *Paréntesis*. Aunque no es propiamente un operador, permite cambiar el orden en que se evalúan las operaciones. Para paréntesis anidados, el que está más al interior es el que se evalúa primero.\n",
    "* ***Segundo***. *Potencias*.\n",
    "* ***Tercero***. *Multiplicación y división*. (El modulo y la división entera se encuentran también en este nivel)\n",
    "* ***Cuarto***. *Suma y resta*."
   ]
  },
  {
   "cell_type": "code",
   "execution_count": 16,
   "metadata": {},
   "outputs": [
    {
     "data": {
      "text/plain": [
       "7"
      ]
     },
     "execution_count": 16,
     "metadata": {},
     "output_type": "execute_result"
    }
   ],
   "source": [
    "# Suma\n",
    "3+4"
   ]
  },
  {
   "cell_type": "code",
   "execution_count": 17,
   "metadata": {},
   "outputs": [
    {
     "data": {
      "text/plain": [
       "-1"
      ]
     },
     "execution_count": 17,
     "metadata": {},
     "output_type": "execute_result"
    }
   ],
   "source": [
    "# Resta\n",
    "4-5"
   ]
  },
  {
   "cell_type": "code",
   "execution_count": 18,
   "metadata": {},
   "outputs": [
    {
     "data": {
      "text/plain": [
       "21"
      ]
     },
     "execution_count": 18,
     "metadata": {},
     "output_type": "execute_result"
    }
   ],
   "source": [
    "# Multiplicacion\n",
    "3*7"
   ]
  },
  {
   "cell_type": "code",
   "execution_count": 19,
   "metadata": {},
   "outputs": [
    {
     "data": {
      "text/plain": [
       "0.8333333333333334"
      ]
     },
     "execution_count": 19,
     "metadata": {},
     "output_type": "execute_result"
    }
   ],
   "source": [
    "# Division\n",
    "5/6"
   ]
  },
  {
   "cell_type": "code",
   "execution_count": 20,
   "metadata": {},
   "outputs": [
    {
     "data": {
      "text/plain": [
       "10.889999999999999"
      ]
     },
     "execution_count": 20,
     "metadata": {},
     "output_type": "execute_result"
    }
   ],
   "source": [
    "# Potencia\n",
    "3.3**2"
   ]
  },
  {
   "cell_type": "code",
   "execution_count": 21,
   "metadata": {},
   "outputs": [
    {
     "data": {
      "text/plain": [
       "1"
      ]
     },
     "execution_count": 21,
     "metadata": {},
     "output_type": "execute_result"
    }
   ],
   "source": [
    "# Modulo\n",
    "5%2"
   ]
  },
  {
   "cell_type": "code",
   "execution_count": 22,
   "metadata": {},
   "outputs": [
    {
     "data": {
      "text/plain": [
       "3"
      ]
     },
     "execution_count": 22,
     "metadata": {},
     "output_type": "execute_result"
    }
   ],
   "source": [
    "# Division entera\n",
    "11//3"
   ]
  },
  {
   "cell_type": "code",
   "execution_count": 23,
   "metadata": {},
   "outputs": [
    {
     "name": "stdout",
     "output_type": "stream",
     "text": [
      "14\n",
      "11\n"
     ]
    }
   ],
   "source": [
    "# Jerarquia\n",
    "print((3+4)*2)\n",
    "print(3+4*2)"
   ]
  },
  {
   "cell_type": "markdown",
   "metadata": {},
   "source": [
    "Los operadores aritméticos aplicados a tipos de datos numéricos de un mismo tipo pueden producir un tipo de dato numérico diferente, como es el caso de la división entre números enteros, cuyo resultado es de tipo ```float```. Para otros tipos de datos también se pueden usar los operadores aritméticos pero en un sentido diferente, por ejemplo, en el caso de la suma de cadenas esta produce concatenación de cadenas."
   ]
  },
  {
   "cell_type": "code",
   "execution_count": 30,
   "metadata": {},
   "outputs": [
    {
     "data": {
      "text/plain": [
       "'Hola Mundo'"
      ]
     },
     "execution_count": 30,
     "metadata": {},
     "output_type": "execute_result"
    }
   ],
   "source": [
    "# Suma de cadenas = concatenacion de cadenas\n",
    "\"Hola\" + \" Mundo\""
   ]
  },
  {
   "cell_type": "markdown",
   "metadata": {},
   "source": [
    "También se pueden hacer operaciones entre diferentes tipos de datos, pero en algunas ocasiones aparecen errores ```TypeError```, que ocurren cuando la operación no está definida entre los tipos de datos involucrados. Por ejemplo, sumar una cadena con un entero produce un error de tipo ```TypeError```, sin embargo, se puede hacer la multiplicación de cadenas con enteros, cuyo resultado es la repetición de la cadena tantas veces como el valor del entero."
   ]
  },
  {
   "cell_type": "code",
   "execution_count": 2,
   "metadata": {},
   "outputs": [
    {
     "ename": "TypeError",
     "evalue": "unsupported operand type(s) for +: 'int' and 'str'",
     "output_type": "error",
     "traceback": [
      "\u001b[1;31m---------------------------------------------------------------------------\u001b[0m",
      "\u001b[1;31mTypeError\u001b[0m                                 Traceback (most recent call last)",
      "Cell \u001b[1;32mIn[2], line 1\u001b[0m\n\u001b[1;32m----> 1\u001b[0m \u001b[38;5;241m5\u001b[39m \u001b[38;5;241m+\u001b[39m \u001b[38;5;124m\"\u001b[39m\u001b[38;5;124mstring\u001b[39m\u001b[38;5;124m\"\u001b[39m\n",
      "\u001b[1;31mTypeError\u001b[0m: unsupported operand type(s) for +: 'int' and 'str'"
     ]
    }
   ],
   "source": [
    "5 + \"string\""
   ]
  },
  {
   "cell_type": "code",
   "execution_count": 26,
   "metadata": {},
   "outputs": [
    {
     "data": {
      "text/plain": [
       "'Hola Hola Hola Hola Hola Hola Hola Hola Hola Hola Hola Hola Hola '"
      ]
     },
     "execution_count": 26,
     "metadata": {},
     "output_type": "execute_result"
    }
   ],
   "source": [
    "# Multiplicacion de una cadena por un entero\n",
    "13*\"Hola \""
   ]
  },
  {
   "cell_type": "markdown",
   "metadata": {},
   "source": [
    "# Variables\n",
    "\n",
    "Las variables en *Python* no necesitan una declaración explícita para reservar espacio en la memoria. La declaración ocurre automáticamente cuando se asigna un valor a una variable. Para declarar una variable se utiliza el operador de *asignación* ```=```. La sintaxis a usar es:\n",
    "\n",
    "```python\n",
    "identificador = valor_variable\n",
    "```\n",
    "\n",
    "esto es, el operando a la izquierda del operador ```=``` es el **identificador** y el operando a la derecha del operador ```=``` es el **valor almacenado** en la variable.\n",
    "\n",
    "Dado que *Python* es un lenguaje interpretado, la asignación de variables es dinámica, por lo que el tipo de dato asignado a una variable se puede cambiar en cualquier momento. Esto requiere poner atención en el manejo de las variables para evitar errores de tipo ```TypeError```.\n",
    "\n",
    "**Nota**: El nombre de las variables debe comenzar con una letra, de la ```A``` a la ```Z``` o de la ```a``` a la ```z``` o un guión bajo (```_```) seguido de cero o más letras, guiones bajos y *dígitos* (```0``` a ```9```). *Python* no permite caracteres de puntuación o caracteres como ```@```, ```$``` y ```%``` dentro de los nombres. También, al ser un lenguaje de programación sensible a mayúsculas y minúsculas se debe prestar atención en los nombres ya que, por ejemplo, ```Variable``` y ```variable```, hacen referencia a dos identificadores de variables diferentes. \n",
    "En el siguiente [link](https://docs.python.org/3/reference/lexical_analysis.html#keywords) se puede encontrar las palabras reservadas (*keywords*) que no se pueden usar como nombres de variables."
   ]
  },
  {
   "cell_type": "code",
   "execution_count": 1,
   "metadata": {},
   "outputs": [],
   "source": [
    "#help() #Escribir keywords"
   ]
  },
  {
   "cell_type": "code",
   "execution_count": 6,
   "metadata": {},
   "outputs": [],
   "source": [
    "# Ejemplo cadenas\n",
    "x = \"Hola mundo\""
   ]
  },
  {
   "cell_type": "code",
   "execution_count": 33,
   "metadata": {},
   "outputs": [
    {
     "name": "stdout",
     "output_type": "stream",
     "text": [
      "7\n"
     ]
    }
   ],
   "source": [
    "# Ejemplo enteros\n",
    "y = 3 + 4\n",
    "print(y)"
   ]
  },
  {
   "cell_type": "code",
   "execution_count": 5,
   "metadata": {},
   "outputs": [
    {
     "name": "stdout",
     "output_type": "stream",
     "text": [
      "El resultado de la operacion es 29.704500000000003\n"
     ]
    }
   ],
   "source": [
    "# Ejemplo flotantes, cadenas y salida con formato\n",
    "z = 3.45*2.87\n",
    "y = 3*z\n",
    "s = \"El resultado de la operacion es\"\n",
    "print(s,y)"
   ]
  },
  {
   "cell_type": "code",
   "execution_count": 35,
   "metadata": {},
   "outputs": [
    {
     "name": "stdout",
     "output_type": "stream",
     "text": [
      "4\n"
     ]
    }
   ],
   "source": [
    "# Ejemplo nombre de variable con _\n",
    "_xz = 4\n",
    "print(_xz)"
   ]
  },
  {
   "cell_type": "markdown",
   "metadata": {},
   "source": [
    "## Asignación múltiple\n",
    "\n",
    "*Python* permite asignar un solo valor a varias variables de manera simultánea. También es posible declarar múltiples variables con su respectivo valor en una sola línea."
   ]
  },
  {
   "cell_type": "code",
   "execution_count": 7,
   "metadata": {},
   "outputs": [
    {
     "name": "stdout",
     "output_type": "stream",
     "text": [
      "2 2 2\n"
     ]
    }
   ],
   "source": [
    "# Asginacion de un solo valor a varias variables\n",
    "a = b = c = 2\n",
    "print(a,b,c)"
   ]
  },
  {
   "cell_type": "code",
   "execution_count": 8,
   "metadata": {},
   "outputs": [
    {
     "name": "stdout",
     "output_type": "stream",
     "text": [
      "3.45 5 Cadena\n"
     ]
    }
   ],
   "source": [
    "# Declaracion de multiples variables en una sola linea\n",
    "d,e,f = 3.45,5,\"Cadena\"\n",
    "print(d,e,f)"
   ]
  },
  {
   "cell_type": "markdown",
   "metadata": {},
   "source": [
    "## Eliminación de variables\n",
    "\n",
    "Para eliminar la referencia a una o varias variables se utiliza el comando ```del```. La sintaxis a usar es:\n",
    "\n",
    "```python\n",
    "del var1[,var2[,var3[....,varN]]]\n",
    "```"
   ]
  },
  {
   "cell_type": "code",
   "execution_count": 9,
   "metadata": {},
   "outputs": [
    {
     "name": "stdout",
     "output_type": "stream",
     "text": [
      "2 2 2 3.45 5 Cadena\n"
     ]
    }
   ],
   "source": [
    "#Ejemplo de eliminacion de variables\n",
    "print(a,b,c,d,e,f)\n",
    "del a # Borrar una sola variable\n",
    "del b,c,d,e,f # Borrar multiples variables"
   ]
  },
  {
   "cell_type": "code",
   "execution_count": 10,
   "metadata": {},
   "outputs": [
    {
     "ename": "NameError",
     "evalue": "name 'a' is not defined",
     "output_type": "error",
     "traceback": [
      "\u001b[1;31m---------------------------------------------------------------------------\u001b[0m",
      "\u001b[1;31mNameError\u001b[0m                                 Traceback (most recent call last)",
      "Cell \u001b[1;32mIn[10], line 1\u001b[0m\n\u001b[1;32m----> 1\u001b[0m \u001b[38;5;28mprint\u001b[39m(a,b,c,d,e,f)\n",
      "\u001b[1;31mNameError\u001b[0m: name 'a' is not defined"
     ]
    }
   ],
   "source": [
    "print(a,b,c,d,e,f)"
   ]
  },
  {
   "cell_type": "markdown",
   "metadata": {},
   "source": [
    "**Nota**: Una vez eliminada una variable ya no será posible acceder a ella a través de su nombre (identificador). Si queremos hacer referencia a una variable que no este declarada o la cual haya sido eliminada, se obtendrá un error de tipo ```NameError```."
   ]
  },
  {
   "cell_type": "markdown",
   "metadata": {},
   "source": [
    "## Variables, operadores booleanos (lógicos) y relacionales\n",
    "\n",
    "Las *variables booleanas* sólo pueden tomar los valores ```True``` o ```False``` y los *operadores booleanos o lógicos* usan operandos de tipo ```bool``` regresan alguno de estos dos valores aunque los operandos pueden ser de diferentes tipos. La siguiente tabla muestra los *operadores booleanos*:\n",
    "\n",
    "| Operador \t| Nombre            \t|\n",
    "|:--------:\t|-------------------\t|\n",
    "|    and   \t| y lógico          \t|\n",
    "|    or    \t| o lógico          \t|\n",
    "|    not   \t| Negación          \t|\n",
    "|     <    \t| Menor que         \t|\n",
    "|     >    \t| Mayor que         \t|\n",
    "|    ==    \t| Igual que            \t|\n",
    "|    >=    \t| Mayor o igual que \t|\n",
    "|    <=    \t| Menor o igual que \t|\n",
    "|    !=    \t| Diferente que        \t|\n",
    "|    is     | es                    |\n",
    "|  is not   | no es                 |\n",
    "|    in     | está en               |\n",
    "|  not in   | no está  en           |\n",
    "\n",
    "Primero se mostrará el uso de los operadores lógicos se Como ejemplo se declararán dos variables booleanas ```cero``` con el valor ```False``` y ```uno``` con el valor ```True``` para construir las tablas de verdad para los operadores *binarios* ```and``` y ```or```, y para el operador *unario* ```not```, con el objetivo de mostrar todos los posibles resultados de aplicar los operadores a las variables booleanas."
   ]
  },
  {
   "cell_type": "code",
   "execution_count": 39,
   "metadata": {},
   "outputs": [
    {
     "name": "stdout",
     "output_type": "stream",
     "text": [
      "False\n",
      "True\n"
     ]
    }
   ],
   "source": [
    "# Declaracion de variables booleanas\n",
    "cero,uno = False,True\n",
    "print(cero) # Falso\n",
    "print(uno) # Verdadero"
   ]
  },
  {
   "cell_type": "code",
   "execution_count": 40,
   "metadata": {},
   "outputs": [
    {
     "name": "stdout",
     "output_type": "stream",
     "text": [
      "False\n",
      "False\n",
      "False\n",
      "True\n"
     ]
    }
   ],
   "source": [
    "# Tabla de verdad para el operador binario and\n",
    "print(cero and cero)\n",
    "print(cero and uno)\n",
    "print(uno and cero)\n",
    "print(uno and uno)"
   ]
  },
  {
   "cell_type": "code",
   "execution_count": 41,
   "metadata": {},
   "outputs": [
    {
     "name": "stdout",
     "output_type": "stream",
     "text": [
      "False\n",
      "True\n",
      "True\n",
      "True\n"
     ]
    }
   ],
   "source": [
    "# Tabla de verdad para el operador binario or\n",
    "print(cero or cero)\n",
    "print(cero or uno)\n",
    "print(uno or cero)\n",
    "print(uno or uno)"
   ]
  },
  {
   "cell_type": "code",
   "execution_count": 42,
   "metadata": {},
   "outputs": [
    {
     "name": "stdout",
     "output_type": "stream",
     "text": [
      "True\n",
      "False\n"
     ]
    }
   ],
   "source": [
    "# Tabla de verdad para el operador unario not\n",
    "print(not cero)\n",
    "print(not uno)"
   ]
  },
  {
   "cell_type": "markdown",
   "metadata": {},
   "source": [
    "Para literales o variables de tipo numérico se pueden utilizar los operadores de comparación para determinar si se cumple o no una relación de orden, por lo que el resultado de una comparación devuelve un valor de tipo ```bool```."
   ]
  },
  {
   "cell_type": "code",
   "execution_count": 43,
   "metadata": {},
   "outputs": [
    {
     "name": "stdout",
     "output_type": "stream",
     "text": [
      "5 == 7.3 es:  False\n",
      "5 != 7.3 es:  True\n",
      "5 > 7.3 es:  False\n",
      "5 >= 7.3 es:  False\n",
      "5 < 7.3 es:  True\n",
      "5 <= 7.3 es:  True\n"
     ]
    }
   ],
   "source": [
    "# Comparacion\n",
    "a,b = 5,7.3\n",
    "print(a,\"==\",b,\"es: \",a==b)\n",
    "print(a,\"!=\",b,\"es: \",a!=b)\n",
    "print(a,\">\",b,\"es: \",a>b)\n",
    "print(a,\">=\",b,\"es: \",a>=b)\n",
    "print(a,\"<\",b,\"es: \",a<b)\n",
    "print(a,\"<=\",b,\"es: \",a<=b)"
   ]
  },
  {
   "cell_type": "markdown",
   "metadata": {},
   "source": [
    "Para el caso de cadenas (```str```), es posible comparar si dos cadenas son iguales mediante el operador ```==``` o diferentes con ```!=```. Pero incluso podemos hacer comparaciones entre cadenas ya que el orden está establecido a través del orden alfabético."
   ]
  },
  {
   "cell_type": "code",
   "execution_count": 2,
   "metadata": {},
   "outputs": [
    {
     "name": "stdout",
     "output_type": "stream",
     "text": [
      "False\n",
      "True\n",
      "False\n"
     ]
    }
   ],
   "source": [
    "# Ejemplo del uso de la comparacion entre cadenas\n",
    "palabra1 = \"Python\"\n",
    "palabra2 = \"ManejoDeDatos\"\n",
    "palabra3 = \"python\"\n",
    "\n",
    "print(palabra1 < palabra2)\n",
    "print(palabra1 > palabra2)\n",
    "print(palabra1 == palabra3)"
   ]
  },
  {
   "cell_type": "markdown",
   "metadata": {},
   "source": [
    "La manera que se hace esto es a través de los valores en la codificación de los caracteres en la computadora. *Python* utiliza preferentemente la codificación UTF-8. Así, se van comparando carácter por carácter a través de sus valores enteros y de esta manera se determina cual está primero alfabéticamente.\n",
    "\n",
    "**Nota**: Podemos usar la función ```ord``` para recuperar el valor entero de un carácter. Y podemos hacer lo contrario usando la función ```chr``` para una entrada entera."
   ]
  },
  {
   "cell_type": "code",
   "execution_count": 45,
   "metadata": {},
   "outputs": [
    {
     "name": "stdout",
     "output_type": "stream",
     "text": [
      "65\n",
      "97\n",
      "193\n",
      "225\n"
     ]
    }
   ],
   "source": [
    "# Uso de la funcion ord\n",
    "print(ord(\"A\"))\n",
    "print(ord(\"a\"))\n",
    "print(ord(\"Á\"))\n",
    "print(ord(\"á\"))"
   ]
  },
  {
   "cell_type": "code",
   "execution_count": 52,
   "metadata": {},
   "outputs": [
    {
     "name": "stdout",
     "output_type": "stream",
     "text": [
      "A\n",
      "B\n",
      "C\n",
      "D\n"
     ]
    }
   ],
   "source": [
    "# Uso de la funcion chr\n",
    "print(chr(ord(\"A\")+0))\n",
    "print(chr(ord(\"A\")+1))\n",
    "print(chr(ord(\"A\")+2))\n",
    "print(chr(ord(\"A\")+3))"
   ]
  },
  {
   "cell_type": "markdown",
   "metadata": {},
   "source": [
    "# Funciones integradas (*Built-in functions*)\n",
    "\n",
    "*Python* cuenta con funciones integradas que se pueden utilizar para los diferentes tipos de datos. Aunque ya hemos utilizado algunas de ellas, en esta parte trataremos de introducir otras que serán de utilidad. Una referencia para consultar dichas funciones puede ser encontrada en el siguiente [link](https://docs.python.org/3/library/functions.html).\n",
    "\n",
    "## Función print\n",
    "\n",
    "La función ```print``` nos permite mostrar un mensaje en pantalla.\n",
    "\n",
    "Los argumentos predeterminados en la función ```print``` son  ```sep = \" \"``` y ```end = \"\\n\"```.\n",
    "Donde ```sep``` se refiere a la separación que se obtendrá entre las entradas del print (un espacio predeterminado). Mientras que ```end``` se refiere el último valor que se verá en la impresión (un salto de línea predeterminado)."
   ]
  },
  {
   "cell_type": "code",
   "execution_count": 13,
   "metadata": {},
   "outputs": [
    {
     "name": "stdout",
     "output_type": "stream",
     "text": [
      "Hola mundo\n",
      "Holamundo\n"
     ]
    }
   ],
   "source": [
    "# Usando una cadena\n",
    "print(\"Hola\", \"mundo\")\n",
    "#Notemos como ya no hay espacio entre ambos str y como el segundo se imprime por debajo del anterior\n",
    "print(\"Hola\", \"mundo\", sep = \"\") "
   ]
  },
  {
   "cell_type": "code",
   "execution_count": 20,
   "metadata": {},
   "outputs": [
    {
     "name": "stdout",
     "output_type": "stream",
     "text": [
      "Hola\n",
      "mundo Hola\n"
     ]
    }
   ],
   "source": [
    "print(\"Hola\", \"mundo\", sep = \"\\n\", end = \" \")#Notemos como 'mundo' se imprime con un salto de línea y que la siguiente\n",
    "print(\"Hola\")#impresión sale con un espacio al final de la anterior"
   ]
  },
  {
   "cell_type": "markdown",
   "metadata": {},
   "source": [
    "También vamos a tener la posibilidad de mandar texto con formato. Por ejemplo, "
   ]
  },
  {
   "cell_type": "code",
   "execution_count": 55,
   "metadata": {},
   "outputs": [
    {
     "name": "stdout",
     "output_type": "stream",
     "text": [
      "Mi numero de la suerte es 7\n"
     ]
    }
   ],
   "source": [
    "# Usando una cadena y un entero. Salida con formato\n",
    "print(\"Mi numero de la suerte es\",7)"
   ]
  },
  {
   "cell_type": "markdown",
   "metadata": {},
   "source": [
    "Sin embargo, se pueden utilizar los *literales de cadena formateados* (*formatted string literal*) o ***f-string***, para facilitar la lectura desde el código. Los *f-string* son un literal de cadena que se prefija con ```'f'``` o ```'F'```, y son cadenas que pueden contener campos de reemplazo, las cuales son expresiones delimitadas por llaves ```{}```. El siguiente ejemplo muestra su uso."
   ]
  },
  {
   "cell_type": "code",
   "execution_count": 56,
   "metadata": {},
   "outputs": [
    {
     "name": "stdout",
     "output_type": "stream",
     "text": [
      "Los números ganadores son: 29 , 7 y 18\n",
      "Los números ganadores son: 29, 7 y 18\n"
     ]
    }
   ],
   "source": [
    "a,b,c = 29,7,18\n",
    "print(\"Los números ganadores son:\", a,\",\",b,\"y\",c)\n",
    "print(f\"Los números ganadores son: {a}, {b} y {c}\")"
   ]
  },
  {
   "cell_type": "markdown",
   "metadata": {},
   "source": [
    "También se pueden insertar expresiones de *Python* entre las llaves. Las expresiones se reemplazan con su resultado en la cadena, pero se recomienda que las expresiones sean simples. Por ejemplo,"
   ]
  },
  {
   "cell_type": "code",
   "execution_count": 57,
   "metadata": {},
   "outputs": [
    {
     "name": "stdout",
     "output_type": "stream",
     "text": [
      "8.5 x 9.73 = 82.705\n"
     ]
    }
   ],
   "source": [
    "a,b = 8.5,9.73\n",
    "print(f\"{a} x {b} = {a*b}\")"
   ]
  },
  {
   "cell_type": "markdown",
   "metadata": {},
   "source": [
    "Las *f-strings* sólo están disponibles en la versión de *Python* 3.6 en adelante. En las versiones previas y actuales de *Python*, el método ```.format()``` se puede usar para obtener los mismos resultados"
   ]
  },
  {
   "cell_type": "code",
   "execution_count": 58,
   "metadata": {},
   "outputs": [
    {
     "name": "stdout",
     "output_type": "stream",
     "text": [
      "-15.2 x 79.43 = -1207.336\n"
     ]
    }
   ],
   "source": [
    "a,b = -15.2,79.43\n",
    "print(\"{} x {} = {}\".format(a,b,a*b))"
   ]
  },
  {
   "cell_type": "markdown",
   "metadata": {},
   "source": [
    "### Función input\n",
    "\n",
    "Cuando se realiza un *programa* es necesario recibir información o valores para declarar las variables, es decir, asignarles un valor. Por lo general, esto se hace a través de pedir esta información al usuario. La función ```input``` permite desplegar mensajes y recibir información con la siguiente sintaxis:\n",
    "\n",
    "\n",
    "```python\n",
    "identificador = input(\"Mensaje como cadena de texto\")\n",
    "```\n",
    "\n",
    "Una cosa que hay que tener en cuenta es que el argumento de entrada (```identificador```) de ```input``` es una cadena (tipo ```str```), por lo que dependiendo del uso hay que hacer una conversión (*casting*) en el tipo de dato. Esto se hace a través de las funciones\n",
    "\n",
    "* ```int(x)``` Convierte el argumento x a uno de tipo ```int```.\n",
    "* ```float(x)``` Convierte el argumento x a uno de tipo ```float```.\n",
    "* ```str(x)``` Convierte el argumento x a uno de tipo *str*."
   ]
  },
  {
   "cell_type": "code",
   "execution_count": 15,
   "metadata": {},
   "outputs": [
    {
     "name": "stdout",
     "output_type": "stream",
     "text": [
      "Dame un numero para calcular su cuadrado: 6\n",
      "<class 'str'>\n",
      "6^2 = 36\n"
     ]
    }
   ],
   "source": [
    "# Programa para calcular el cuadrado de un numero\n",
    "n = input(\"Dame un numero para calcular su cuadrado: \")\n",
    "print(type(n))\n",
    "print(n + \"^2 = \" + str(int(n)**2))"
   ]
  },
  {
   "cell_type": "markdown",
   "metadata": {},
   "source": [
    "La función ```eval``` analiza la expresión (dada como un str) y ejecuta la expresión dentro del programa. De esta manera, usada junto con ```input```, podemos dar cualquier expresión valida de *Python* para declarar variables de los diferentes tipos de datos sin la necesidad de usar las otras funciones para conversión de tipos."
   ]
  },
  {
   "cell_type": "code",
   "execution_count": 69,
   "metadata": {},
   "outputs": [
    {
     "name": "stdout",
     "output_type": "stream",
     "text": [
      "Dame una entrada : 5/2\n",
      "2.5\n",
      "<class 'float'>\n"
     ]
    }
   ],
   "source": [
    "t = eval(input(\"Dame una entrada : \"))\n",
    "print(t)\n",
    "print(type(t))"
   ]
  },
  {
   "cell_type": "markdown",
   "metadata": {},
   "source": [
    "## Funciones matemáticas\n",
    "\n",
    "Para poder usar las funciones matemáticas usuales que encontramos por ejemplo en una calculadora científica es necesario importar un módulo. Dado que Python es un lenguaje de propósito general, varias funciones para propósitos específicos vienen empaquetadas en módulos que es necesario importarlas primero para poder utilizarlas. \n",
    "\n",
    "Para utilizar una biblioteca o módulo de funciones adicionales utilizamos el comando **import**.\n",
    "\n",
    "\n",
    "### Módulo ```math```\n",
    "\n",
    "Las funciones matemáticas usuales como funciones trigonométricas, raíz cuadrada, redondeos, etc, además de constantes como $\\pi$ o $e$ vienen definidas en el módulo *math*. Para poder usar dichas funciones o constantes usamos la instrucción ```import math```"
   ]
  },
  {
   "cell_type": "code",
   "execution_count": 2,
   "metadata": {},
   "outputs": [],
   "source": [
    "# Importamos el paquete math\n",
    "import math"
   ]
  },
  {
   "cell_type": "code",
   "execution_count": 16,
   "metadata": {},
   "outputs": [],
   "source": [
    "from math import cos #Importando sólo una función del módulo math"
   ]
  },
  {
   "cell_type": "code",
   "execution_count": 71,
   "metadata": {},
   "outputs": [
    {
     "data": {
      "text/plain": [
       "1.0"
      ]
     },
     "execution_count": 71,
     "metadata": {},
     "output_type": "execute_result"
    }
   ],
   "source": [
    "# Usamos la función coseno de math\n",
    "math.cos(0)"
   ]
  },
  {
   "cell_type": "code",
   "execution_count": 72,
   "metadata": {},
   "outputs": [
    {
     "data": {
      "text/plain": [
       "3.141592653589793"
      ]
     },
     "execution_count": 72,
     "metadata": {},
     "output_type": "execute_result"
    }
   ],
   "source": [
    "# Mostramos el valor de la constante pi de math\n",
    "math.pi"
   ]
  },
  {
   "cell_type": "code",
   "execution_count": 3,
   "metadata": {},
   "outputs": [
    {
     "data": {
      "text/plain": [
       "2.0"
      ]
     },
     "execution_count": 3,
     "metadata": {},
     "output_type": "execute_result"
    }
   ],
   "source": [
    "# Usamos la función raiz cuadrada de math\n",
    "math.sqrt(4)"
   ]
  },
  {
   "cell_type": "code",
   "execution_count": 74,
   "metadata": {
    "scrolled": true
   },
   "outputs": [
    {
     "data": {
      "text/plain": [
       "4"
      ]
     },
     "execution_count": 74,
     "metadata": {},
     "output_type": "execute_result"
    }
   ],
   "source": [
    "# Usamos la función techo de math\n",
    "math.ceil(3.45)"
   ]
  },
  {
   "cell_type": "markdown",
   "metadata": {},
   "source": [
    "## Ejemplos\n",
    "\n",
    "### Ejemplo 1\n",
    "\n",
    "1. Evalúe la siguiente expresión y muestre el resultado.\n",
    "$$\n",
    "    (-3.5)^{3} + \\dfrac{e^6}{\\ln 524} + 206^{1/3}\n",
    "$$\n",
    "\n",
    "**Solución**: Para calcular lo que se pide, utilizamos la función exponencial ```math.exp()``` para evaluar el término $e^6$ y la función ```math.log()``` para calcular el logaritmo natural."
   ]
  },
  {
   "cell_type": "code",
   "execution_count": 79,
   "metadata": {},
   "outputs": [
    {
     "name": "stdout",
     "output_type": "stream",
     "text": [
      "El resultado es: 27.4611\n"
     ]
    }
   ],
   "source": [
    "# import math #Es necesario este modulo para cargar las funciones. Descomentar si no se ha cargado previamente. \n",
    "print(f\"El resultado es: {(-3.5)**3 + math.exp(6)/math.log(524) + 206**(1/3):2.4f}\")"
   ]
  },
  {
   "cell_type": "markdown",
   "metadata": {},
   "source": [
    "2. Evalúe la siguiente expresión y muestre el resultado.\n",
    "$$\n",
    "    \\frac{2.5^{3}\\left(16-\\dfrac{216}{22}\\right)}{1.7^{4}+14}+\\sqrt[4]{2050}.\n",
    "$$\n",
    "\n",
    "**Solución**: Es importante tener en cuenta que $\\sqrt[4]{x} = x^{\\frac{1}{4}}$. En este caso en lugar del operador ```**```, se uso la función ```math.pow()``` para calcular este término."
   ]
  },
  {
   "cell_type": "code",
   "execution_count": 80,
   "metadata": {},
   "outputs": [
    {
     "name": "stdout",
     "output_type": "stream",
     "text": [
      "El resultado es: 11.0501\n"
     ]
    }
   ],
   "source": [
    "# import math #Es necesario este modulo para cargar las funciones. Descomentar si no se ha cargado previamente. \n",
    "print(f\"El resultado es: {2.5**3*(16-216/22) / (1.7**4+14)+ math.pow(2050,1/4):2.4f}\")"
   ]
  },
  {
   "cell_type": "markdown",
   "metadata": {},
   "source": [
    "3. Evalúe la siguiente expresión y muestre el resultado.\n",
    "$$\n",
    "    \\dfrac{\\tan 64^{\\circ}}{\\cos^{2}14^{\\circ}} - \\dfrac{3\\sin 80^{\\circ}}{\\sqrt[3]{0.9}} + \\dfrac{\\cos 55^{\\circ}}{\\sin 11^{\\circ}}.\n",
    "$$\n",
    "\n",
    "**Solución**: Como la expresión contempla los ángulos medidos en grados, es necesario convertirlos a radianes, ya que las funciones trigonométricas dentro del módulo ```math``` reciben los argumentos en radianes. Para ello se puede usar la función ```math.radians()``` para hacer la conversión de grados a radianes. También existe la función ```math.degrees()``` para el proceso inverso. Dado que la expresión es muy larga, para partirla en múltiples líneas se puede usar el símbolo ```\\``` al final de cada línea. Esto le índica a *Python* que la instrucción continua en la siguiente línea, y de este modo la instrucción es legible."
   ]
  },
  {
   "cell_type": "code",
   "execution_count": 81,
   "metadata": {},
   "outputs": [
    {
     "name": "stdout",
     "output_type": "stream",
     "text": [
      "El resultado es: 2.1238\n"
     ]
    }
   ],
   "source": [
    "# import math #Es necesario este modulo para cargar las funciones.  Descomentar si no se ha cargado previamente. \n",
    "aux = math.tan(math.radians(64))/math.cos(math.radians(14))**2 \\\n",
    "               - 3*math.sin(math.radians(80))/math.pow(0.9,1/3) \\\n",
    "               + math.cos(math.radians(55))/math.sin(math.radians(11))\n",
    "print(f\"El resultado es: {aux:2.4f}\")"
   ]
  },
  {
   "cell_type": "markdown",
   "metadata": {},
   "source": [
    "4. Defina las variables $a$, $b$, $c$ y $d$ como: $a = 12$, $b = 5.6$, $c = \\dfrac{3a}{b^2}$, y $d = \\dfrac{(a-b)^{c}}{c}$, evalúe la siguiente expresión y muestre el resultado\n",
    "$$\n",
    "    \\exp\\left(\\dfrac{d-c}{a-2b}\\right) + \\ln\\left(\\left|c-d+\\dfrac{b}{a}\\right|\\right)\n",
    "$$\n",
    "\n",
    "**Solución**: Aquí solo hay tener cuidado en la asignación de los valores a las variables y usar la función ```math.fabs()``` para calcular el valor absoluto. También se puede usar ```abs()```"
   ]
  },
  {
   "cell_type": "code",
   "execution_count": 82,
   "metadata": {},
   "outputs": [
    {
     "name": "stdout",
     "output_type": "stream",
     "text": [
      "El resultado es: 2292.5402\n"
     ]
    }
   ],
   "source": [
    "# import math #Es necesario este modulo para cargar las funciones.  Descomentar si no se ha cargado previamente. \n",
    "a,b = 12,5.6\n",
    "c = 3*a/b**2\n",
    "d = (a-b)**c/c\n",
    "print(f\"El resultado es: {math.exp((d-c)/(a-2*b)) + math.log(math.fabs(c - d + b/a)):2.4f}\")"
   ]
  }
 ],
 "metadata": {
  "kernelspec": {
   "display_name": "Python 3 (ipykernel)",
   "language": "python",
   "name": "python3"
  },
  "language_info": {
   "codemirror_mode": {
    "name": "ipython",
    "version": 3
   },
   "file_extension": ".py",
   "mimetype": "text/x-python",
   "name": "python",
   "nbconvert_exporter": "python",
   "pygments_lexer": "ipython3",
   "version": "3.11.4"
  }
 },
 "nbformat": 4,
 "nbformat_minor": 4
}
